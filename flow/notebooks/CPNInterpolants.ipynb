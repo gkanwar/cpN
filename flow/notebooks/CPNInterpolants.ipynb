{
 "cells": [
  {
   "cell_type": "markdown",
   "id": "cb1406d8-b184-44da-9982-8199012448f4",
   "metadata": {},
   "source": [
    "# Introduction"
   ]
  },
  {
   "cell_type": "markdown",
   "id": "bb837b15-58a4-4134-a423-c12bfe60fb56",
   "metadata": {},
   "source": [
    "Another approach to defining CP(N-1) flows is to work in the Stochastic Interpolants framework. This has a much nicer training formulation than the usual forward KL, though it requires having some existing data on hand. We can use this to probe or pre-train useful ODE flows. Learned flows can be plugged into an equivalent SDE framework as well to benefit from the addition of noise. "
   ]
  },
  {
   "cell_type": "markdown",
   "id": "1bacbbf5-5bbc-4114-b2ac-99a2fd6579e9",
   "metadata": {},
   "source": [
    "### Interpolant\n",
    "We work in polar coordinates,\n",
    "$$\n",
    "z_i = \\sqrt{y_i} e^{i\\theta_i}\n",
    "$$\n",
    "The normalization constraint, $\\sum_i y_i = 1$, is a linear condition in this formulation. This makes writing an interpolant very easy\n",
    "$$\n",
    "I(y_0, y_1, t) = (1-t) y_0 + t y_1\n",
    "$$\n",
    "$$\n",
    "I(\\theta_0, \\theta_1, t) = \\theta_0 + t \\cdot \\mathrm{wrap}(\\theta_1 - \\theta_0),\n",
    "$$\n",
    "where $\\mathrm{wrap}(\\theta) \\in [-\\pi, \\pi]$ defines the branch cut of the logarithm giving the angular representation of the $U(1)$ variable interpolant.\n",
    "The time derivatives are simply given by\n",
    "$$\n",
    "\\partial_t I(y_0, y_1, t) = y_1 - y_0\n",
    "$$\n",
    "$$\n",
    "\\partial_t I(\\theta_0, \\theta_1, t) = \\mathrm{wrap}(\\theta_1 - \\theta_0).\n",
    "$$"
   ]
  },
  {
   "cell_type": "markdown",
   "id": "42226bf1-e175-4f4f-a040-bfad91929e7a",
   "metadata": {},
   "source": [
    "### SDE formulation\n",
    "To arrive at the SDE formulation, we need to be able to compute the score\n",
    "\\begin{equation}\n",
    "\\begin{aligned}\n",
    "\\nabla \\log p_t(y,\\theta) &= \\frac\n",
    "{\\int dy_0 dy_1 d\\theta_0 d\\theta_1 \\nabla \\delta(y - I(y_0, y_1, t)) \\delta(\\theta - I(\\theta_0, \\theta_1, t)) \\rho_0(y_0, \\theta_0) \\rho_1(y_1, \\theta_1)}\n",
    "{\\int dy_0 dy_1 d\\theta_0 d\\theta_1 \\delta(y - I(y_0, y_1, t)) \\delta(\\theta - I(\\theta_0, \\theta_1, t)) \\rho_0(y_0, \\theta_0) \\rho_1(y_1, \\theta_1)} \\\\\n",
    "&= \\text{boundary terms} - \\frac{1}{p_t(y,\\theta)} \\int dy_0 dy_1 d\\theta_0 d\\theta_1 (1-t)^{-1} \\delta(\\cdot) (\\nabla_0 \\rho_0(y_0, \\theta_0)) \\rho_1(y_1, \\theta_1) \\\\\n",
    "&= \\text{boundary terms} - \\mathbb E \\left[ (1-t)^{-1} \\nabla_0 \\ln \\rho_0 | (y_t, \\theta_t) \\right]\n",
    "\\end{aligned}\n",
    "\\end{equation}\n",
    "Unfortunately, the complexity seems to lie in the boundary terms. For example, we might sensibly choose a uniform prior distribution $\\rho_0 = 0$, in which case the entirety of the score lives in the boundary terms.\n",
    "\n",
    "It may be more expedient to learn a score function to initially explore the SDE possibility for CP(N-1)."
   ]
  },
  {
   "cell_type": "markdown",
   "id": "6adabd6a-ad66-4e20-bd12-3b2739ddec21",
   "metadata": {},
   "source": [
    "# Setup"
   ]
  },
  {
   "cell_type": "code",
   "execution_count": 1,
   "id": "5068efbf-75f3-4446-8d26-cc1aa39e7031",
   "metadata": {},
   "outputs": [],
   "source": [
    "import analysis as al\n",
    "import matplotlib.pyplot as plt\n",
    "import numpy as np\n",
    "import torch\n",
    "import torch.nn.functional as F\n",
    "import tqdm.auto as tqdm"
   ]
  },
  {
   "cell_type": "code",
   "execution_count": 2,
   "id": "b45146f6-0ad5-4b8d-9968-7a2418d55f27",
   "metadata": {},
   "outputs": [],
   "source": [
    "%matplotlib widget"
   ]
  },
  {
   "cell_type": "code",
   "execution_count": 3,
   "id": "b2007649-0d81-450e-9c12-11c89d9364cf",
   "metadata": {},
   "outputs": [],
   "source": [
    "device = 'cpu'\n",
    "torch.set_default_device(device)\n",
    "torch.set_default_dtype(torch.float64)"
   ]
  },
  {
   "cell_type": "code",
   "execution_count": 4,
   "id": "aa9fe64d-981f-425f-aff2-bb20bd81ce89",
   "metadata": {},
   "outputs": [],
   "source": [
    "def grab(x):\n",
    "    return x.detach().cpu().numpy()\n",
    "def wrap(x):\n",
    "    return (x + np.pi) % (2*np.pi) - np.pi"
   ]
  },
  {
   "cell_type": "code",
   "execution_count": 5,
   "id": "5efcdaf0-8aae-485d-8bc0-2bb305fa331e",
   "metadata": {},
   "outputs": [],
   "source": [
    "Nd = 2"
   ]
  },
  {
   "cell_type": "code",
   "execution_count": 6,
   "id": "3c966bee-8e67-4d4f-bfd4-6a048311bdc1",
   "metadata": {},
   "outputs": [],
   "source": [
    "def np_to_polar(z):\n",
    "    y = np.abs(z)**2\n",
    "    th = np.angle(z)\n",
    "    return y,th\n",
    "def np_to_cartesian(y, th):\n",
    "    z = np.sqrt(y) * np.exp(1j*th)\n",
    "    return z\n",
    "def to_polar(z):\n",
    "    y = z.abs()**2\n",
    "    th = torch.angle(z)\n",
    "    return y,th\n",
    "def to_cartesian(y, th):\n",
    "    # norm = torch.sqrt(y.sum(dim=-1, keepdim=True))\n",
    "    z = torch.sqrt(y) * np.exp(1j*th)\n",
    "    return z"
   ]
  },
  {
   "cell_type": "code",
   "execution_count": 7,
   "id": "72775803-0de3-47c6-9cd8-b841351ef43f",
   "metadata": {},
   "outputs": [],
   "source": [
    "def generate_unif(Nc, *, size):\n",
    "    # y = torch.rand(size=(size,Nc))\n",
    "    # y = y / torch.sum(y, dim=1, keepdim=True)\n",
    "    y = torch.distributions.exponential.Exponential(1.0).sample((size,Nc))\n",
    "    y = y / torch.sum(y, dim=-1, keepdim=True)\n",
    "    assert torch.all(y >= 0)\n",
    "    assert torch.allclose(y.sum(-1), torch.tensor(1.0))\n",
    "    th = 2*np.pi*torch.rand(size=(size,Nc)) - np.pi\n",
    "    return torch.stack([y, th], dim=0)"
   ]
  },
  {
   "cell_type": "code",
   "execution_count": 8,
   "id": "35245fe1-0a8e-425a-be3a-e13b60ec7327",
   "metadata": {},
   "outputs": [],
   "source": [
    "def action_y_th(y: torch.Tensor, th: torch.Tensor, *, beta):\n",
    "    \"\"\"CP(N-1) action given unnoramlized y and th\"\"\"\n",
    "    S = 0\n",
    "    inds = tuple(range(len(y.shape)-Nd-1, len(y.shape)-1))\n",
    "    assert len(inds) == Nd\n",
    "    assert torch.all(y >= 0)\n",
    "    m = (y / y.sum(dim=-1, keepdim=True)).sqrt()\n",
    "    ph = torch.exp(1j*th)\n",
    "    for mu,ind in zip(range(Nd), inds):\n",
    "        m_fwd = torch.roll(m, -1, dims=ind)\n",
    "        ph_fwd = torch.roll(ph, -1, dims=ind)\n",
    "        local_S_mu = torch.sum(m_fwd * m * ph_fwd.conj() * ph, dim=-1).abs()**2\n",
    "        S = S + beta * (1 - local_S_mu).sum(inds)\n",
    "    return S\n",
    "\n",
    "def action_reg_y(y: torch.Tensor, *, kappa):\n",
    "    \"\"\"Action to regulate the sum of ys\"\"\"\n",
    "    # sum over all non-batch indices\n",
    "    assert torch.all(y >= 0)\n",
    "    inds = tuple(range(len(y.shape)-Nd-1, len(y.shape)))\n",
    "    return kappa * y.sum(inds)"
   ]
  },
  {
   "cell_type": "markdown",
   "id": "09f2a766-6f8b-463c-a213-d3073bfa3a6d",
   "metadata": {},
   "source": [
    "# Interpolant"
   ]
  },
  {
   "cell_type": "code",
   "execution_count": 9,
   "id": "a72592ea-6a2d-4879-bd0d-f82b30065673",
   "metadata": {},
   "outputs": [],
   "source": [
    "def interp(x0, x1, t):\n",
    "    for _ in range(len(x0.shape)-2):\n",
    "        t = t.unsqueeze(-1)\n",
    "    y0, th0 = x0[:,0], x0[:,1]\n",
    "    y1, th1 = x1[:,0], x1[:,1]\n",
    "    yt = y0 * (1-t) + y1 * t\n",
    "    tht = wrap(th0 + t * wrap(th1 - th0))\n",
    "    return torch.stack([yt, tht], dim=1)\n",
    "def dinterp_dt(x0, x1, t):\n",
    "    # for _ in range(len(x0.shape)-2):\n",
    "    #     t = t.unsqueeze(-1)\n",
    "    y0, th0 = x0[:,0], x0[:,1]\n",
    "    y1, th1 = x1[:,0], x1[:,1]\n",
    "    dyt = y1 - y0\n",
    "    dtht = wrap(th1 - th0)\n",
    "    return torch.stack([dyt, dtht], dim=1)"
   ]
  },
  {
   "cell_type": "code",
   "execution_count": 110,
   "id": "7e9102c6-726d-4d58-8ce6-96a672515c10",
   "metadata": {},
   "outputs": [],
   "source": [
    "class VelocityField(torch.nn.Module):\n",
    "    def __init__(self, Nc, latt_shape):\n",
    "        super().__init__()\n",
    "        self.Nc = Nc\n",
    "        # self.latt_shape = latt_shape\n",
    "        # Nd = len(latt_shape)\n",
    "        # self.vol = 1\n",
    "        # for Li in self.latt_shape:\n",
    "        #     self.vol *= Li\n",
    "        n_in = 3*Nc + 1\n",
    "        n_out = 2*Nc\n",
    "        n_h = 256\n",
    "        assert len(latt_shape) == 2, 'specialized for 2d'\n",
    "        conv_params = dict(kernel_size=3, padding=1, padding_mode='circular')\n",
    "        self.net = torch.nn.Sequential(\n",
    "            torch.nn.Conv2d(n_in, n_h, **conv_params),\n",
    "            torch.nn.SiLU(),\n",
    "            torch.nn.Conv2d(n_h, n_h, **conv_params),\n",
    "            torch.nn.SiLU(),\n",
    "            torch.nn.Conv2d(n_h, n_h, **conv_params),\n",
    "            torch.nn.SiLU(),\n",
    "            # torch.nn.Conv2d(n_h, n_h, **conv_params),\n",
    "            # torch.nn.SiLU(),\n",
    "            # torch.nn.Conv2d(n_h, n_h, **conv_params),\n",
    "            # torch.nn.SiLU(),\n",
    "            torch.nn.Conv2d(n_h, n_out, **conv_params),\n",
    "        )\n",
    "    def forward(self, x, t):\n",
    "        assert x.shape[-1] == self.Nc, 'x has wrong Nc'\n",
    "        assert x.shape[1] == 2, 'x must have exactly the channels (y,th)'\n",
    "        assert t.shape[0] == x.shape[0], 'batch_size mismatch'\n",
    "        y, th = x[:,0], x[:,1]\n",
    "        # y_flat = torch.flatten(y, 1)\n",
    "        # th_flat = torch.flatten(th, 1)\n",
    "        y_flat = y.moveaxis(-1, 1)\n",
    "        th_flat = th.moveaxis(-1, 1)\n",
    "        # t = t.unsqueeze(1)\n",
    "        for _ in range(len(y.shape)-1):\n",
    "            t = t.unsqueeze(-1)\n",
    "        t = t * torch.ones_like(y_flat[0,0])\n",
    "        inp = torch.cat([y_flat, torch.cos(th_flat), torch.sin(th_flat), t], dim=1)\n",
    "        out = self.net(inp)\n",
    "        # assert len(out.shape) == 2\n",
    "        assert torch.all(torch.isfinite(out))\n",
    "        # Nc = self.Nc\n",
    "        # latt_shape = self.latt_shape\n",
    "        # out = out.reshape(x.shape)\n",
    "        Nc = y.shape[-1]\n",
    "        out_y = out[:,:Nc].moveaxis(1, -1)\n",
    "        out_th = out[:,Nc:].moveaxis(1, -1)\n",
    "        # apply von neumann boundary at 0\n",
    "        # out_y = out_y * torch.tanh(y) + F.relu(out_y) * (1-torch.tanh(y))\n",
    "        # project to normalize\n",
    "        out_y = out_y - out_y.mean(-1, keepdim=True)\n",
    "        return torch.stack([out_y, out_th], dim=1)"
   ]
  },
  {
   "cell_type": "markdown",
   "id": "e5afaafe-2b34-4b15-911d-da6ba4a83c4c",
   "metadata": {},
   "source": [
    "For the transport to a single target configuration $x_1$ starting from a uniform-exp distribution\n",
    "$$\\rho_0(y_0, \\theta_0) = \\exp(-y_0),$$\n",
    "we can exactly compute the correct velocity field $b_t$. This provides a handy closure test to ensure that the $\\hat{b}_t$ can be trained towards a known target without issue. Since the target distribution $\\rho_1$ is a delta function, the true velocity $b_t(x)$ is exactly equal to the interpolant derivative if an $x_0$ exists such that the interpolant $I(x_0, x_1, t) = x$.\n",
    "\n",
    "For our choice of interpolant, we can extrapolate to $y_0$ and $\\theta_0$ as follows:\n",
    "$$\n",
    "y = (1-t) y_0 + t y_1 \\implies y_0 = y_1 + \\frac{1}{1-t} (y - y_1)\n",
    "$$\n",
    "if all components satisfy $y_{0,i} \\geq 0$, and\n",
    "$$\n",
    "\\theta = \\theta_0 + t \\cdot \\mathrm{wrap}(\\theta_1 - \\theta_0) \\implies \\theta_0 = \\theta_1 + \\frac{1}{1-t} \\mathrm{wrap}(\\theta - \\theta_1)\n",
    "$$\n",
    "if all components satisfy $-(1-t)\\pi \\leq \\mathrm{wrap}(\\theta - \\theta_1)_i \\leq (1-t)\\pi$. The relevant velocities are\n",
    "\\begin{equation}\n",
    "\\begin{aligned}\n",
    "b_{t,y} &= \\frac{1}{1-t} (y_1 - y) \\\\\n",
    "b_{t,\\theta} &= \\frac{1}{1-t} \\mathrm{wrap} (\\theta_1 - \\theta)\n",
    "\\end{aligned}\n",
    "\\end{equation}\n",
    "\n",
    "Note that because our ODE integration never hits regions of zero support, it is valid *for the ODE mode* to simply drop the constraints. However, if implementing the SDE integrator, keeping these zero regions would be important for the final result."
   ]
  },
  {
   "cell_type": "code",
   "execution_count": 102,
   "id": "0bb41fa7-946a-481e-817c-3cff5f4f0fdb",
   "metadata": {},
   "outputs": [],
   "source": [
    "class TrueModel(torch.nn.Module):\n",
    "    \"\"\"Analytical solution for transport to x1\"\"\"\n",
    "    def __init__(self, x1):\n",
    "        super().__init__()\n",
    "        assert x1.shape[0] == 2, 'x1 must have channels (y1, th1)'\n",
    "        self.y1 = x1[0]\n",
    "        self.th1 = x1[1]\n",
    "    def forward(self, x, t):\n",
    "        y, th = x[:,0], x[:,1]\n",
    "        for _ in range(len(y.shape)-1):\n",
    "            t = t.unsqueeze(-1)\n",
    "        dy = (self.y1 - y) / (1-t)\n",
    "        y0 = self.y1 - dy\n",
    "        dy = torch.where(torch.all(0 <= y0, dim=-1, keepdim=True), dy, torch.tensor(0.0))\n",
    "        assert torch.allclose(dy.sum(-1), torch.tensor(0.0))\n",
    "        dth = wrap(self.th1 - th) / (1-t)\n",
    "        dth = torch.where(dth.abs() <= np.pi, dth, torch.tensor(0.0))\n",
    "        return torch.stack([dy, dth], dim=1)"
   ]
  },
  {
   "cell_type": "markdown",
   "id": "367c3d7a-8f15-422e-91af-7eed7de5929d",
   "metadata": {},
   "source": [
    "# Create data"
   ]
  },
  {
   "cell_type": "code",
   "execution_count": 80,
   "id": "101b7b45-a81a-46c5-a5b7-1b8763948595",
   "metadata": {},
   "outputs": [
    {
     "name": "stdout",
     "output_type": "stream",
     "text": [
      "tensor([0.])\n",
      "tensor([16.])\n"
     ]
    }
   ],
   "source": [
    "torch.manual_seed(1234)\n",
    "Nc = 3\n",
    "L = 4\n",
    "# single target sample\n",
    "latt_shape = (L,)*Nd\n",
    "y1 = torch.ones((1,) + latt_shape + (Nc,)) / Nc\n",
    "th1 = torch.zeros((1,) + latt_shape + (Nc,))\n",
    "ens1 = torch.stack([y1, th1], dim=1)\n",
    "print(action_y_th(y1, th1, beta=1.0))\n",
    "print(action_reg_y(y1, kappa=1.0))"
   ]
  },
  {
   "cell_type": "code",
   "execution_count": 105,
   "id": "1faeb2e5-0595-4343-a1f6-1fe9aa049717",
   "metadata": {},
   "outputs": [
    {
     "name": "stdout",
     "output_type": "stream",
     "text": [
      "ens1.shape=torch.Size([10000, 2, 4, 4, 3])\n"
     ]
    }
   ],
   "source": [
    "def load_ens():\n",
    "    ens_z = np.load('../data/cpn_b6.0.npy')\n",
    "    ens_y = np.abs(ens_z)**2\n",
    "    assert np.allclose(np.sum(ens_y, axis=-1), 1.0)\n",
    "    ens_th = np.angle(ens_z)\n",
    "    ens = torch.tensor(np.stack([ens_y, ens_th], axis=1))\n",
    "    return ens\n",
    "ens1 = load_ens()\n",
    "print(f'{ens1.shape=}')\n",
    "Nc = ens1.shape[-1]\n",
    "L = ens1.shape[2]\n",
    "assert ens1.shape[3] == L\n",
    "assert len(ens1.shape) == 3+Nd\n",
    "latt_shape = (L,)*Nd"
   ]
  },
  {
   "cell_type": "markdown",
   "id": "de1b9b27-2475-4dd1-9bb4-866d6c3ebf27",
   "metadata": {},
   "source": [
    "# ODE evaluation"
   ]
  },
  {
   "cell_type": "code",
   "execution_count": 97,
   "id": "e2b345fd-8b22-4253-9b09-baca623d34b0",
   "metadata": {},
   "outputs": [],
   "source": [
    "def run_eval(model, ens1, n_step, batch_size, ax, label):\n",
    "    dt = 1/n_step\n",
    "    x1 = ens1[np.random.randint(len(ens1), size=batch_size)]\n",
    "    Nc = x1.shape[-1]\n",
    "    latt_shape = x1.shape[2:-1]\n",
    "    v = batch_size\n",
    "    for di in ens1.shape[2:-1]:\n",
    "        v *= di\n",
    "    xt = generate_unif(Nc, size=v).reshape((2,-1)+x1.shape[2:]).transpose(0,1)\n",
    "    assert torch.all(xt[:,0] >= 0)\n",
    "    assert torch.allclose(torch.sum(xt[:,0], -1), torch.tensor(1.0))\n",
    "    s = []\n",
    "    ts = np.linspace(0, 1, num=n_step, endpoint=False)\n",
    "    for t in tqdm.tqdm(ts):\n",
    "        t_expand = torch.ones(batch_size) * t\n",
    "        with torch.no_grad():\n",
    "            dx_dt = model(xt, t_expand)\n",
    "        dy_dt = dx_dt[:,0]\n",
    "        y = xt[:,0]\n",
    "        assert torch.allclose(y.sum(-1), torch.tensor(1.0))\n",
    "        dti = torch.where(dy_dt < 0, -y / dy_dt, torch.tensor(torch.inf))\n",
    "        cl_dt = torch.minimum(torch.tensor(dt), torch.min(dti.view(dti.shape[0], -1), dim=-1)[0])\n",
    "        for _ in range(Nd+2):\n",
    "            cl_dt = cl_dt.unsqueeze(-1)\n",
    "        xt += cl_dt * dx_dt\n",
    "        # TODO: clamp to standard simplex\n",
    "        # clamp and proj:\n",
    "        xt[:,0] = torch.max(torch.tensor(0.0), xt[:,0])\n",
    "        xt[:,0] /= torch.sum(xt[:,0], -1, keepdim=True)\n",
    "        # xt[:,0] -= xt[:,0].mean(-1, keepdim=True)\n",
    "        assert torch.all(xt[:,0] >= 0), f'{xt[:,0].min()=}'\n",
    "        assert torch.allclose(xt[:,0].sum(-1), torch.tensor(1.0))\n",
    "        s.append(grab(action_y_th(xt[:,0], xt[:,1], beta=1.0)))\n",
    "    est_s = al.bootstrap(np.transpose(s) / (Nd*L**Nd), Nboot=100, f=al.rmean)\n",
    "    al.add_errorbar(est_s, xs=ts, ax=ax, label=label)"
   ]
  },
  {
   "cell_type": "code",
   "execution_count": 98,
   "id": "500c8352-e631-4305-bae7-c024c9ff37af",
   "metadata": {},
   "outputs": [],
   "source": [
    "def eval_traj(ens1, ts, batch_size):\n",
    "    Nc = ens1.shape[-1]\n",
    "    v = batch_size\n",
    "    for di in ens1.shape[2:-1]:\n",
    "        v *= di\n",
    "    x0 = generate_unif(Nc, size=v).reshape((2,-1)+ens1.shape[2:]).transpose(0,1)\n",
    "    assert torch.all(x0[:,0] >= 0)\n",
    "    x1 = ens1[np.random.randint(len(ens1), size=batch_size)]\n",
    "    out = []\n",
    "    for t in ts:\n",
    "        t_expand = torch.ones(x0.shape[0]) * t\n",
    "        xt = interp(x0, x1, t_expand)\n",
    "        assert xt.shape == x0.shape\n",
    "        out.append(grab(action_y_th(xt[:,0], xt[:,1], beta=1.0)))\n",
    "    return np.transpose(out) / (Nd*L**Nd)"
   ]
  },
  {
   "cell_type": "code",
   "execution_count": 106,
   "id": "36d72936-6c20-42ab-9094-bd27b5a7a359",
   "metadata": {},
   "outputs": [
    {
     "name": "stdout",
     "output_type": "stream",
     "text": [
      "ens_s.shape=(1024, 31)\n",
      "est_ens_s[0].shape=(31,)\n"
     ]
    },
    {
     "data": {
      "application/vnd.jupyter.widget-view+json": {
       "model_id": "5d1d007193084ba1befaf367654cd111",
       "version_major": 2,
       "version_minor": 0
      },
      "text/plain": [
       "  0%|          | 0/200 [00:00<?, ?it/s]"
      ]
     },
     "metadata": {},
     "output_type": "display_data"
    },
    {
     "data": {
      "application/vnd.jupyter.widget-view+json": {
       "model_id": "80a31d8aca5e436ab7be9f97bce89ab6",
       "version_major": 2,
       "version_minor": 0
      },
      "image/png": "[encoded data removed]",
      "text/html": [
       "\n",
       "            <div style=\"display: inline-block;\">\n",
       "                <div class=\"jupyter-widgets widget-label\" style=\"text-align: center;\">\n",
       "                    Figure\n",
       "                </div>\n",
       "                <img src='data:image/png;base64,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' width=640.0/>\n",
       "            </div>\n",
       "        "
      ],
      "text/plain": [
       "Canvas(toolbar=Toolbar(toolitems=[('Home', 'Reset original view', 'home', 'home'), ('Back', 'Back to previous …"
      ]
     },
     "metadata": {},
     "output_type": "display_data"
    }
   ],
   "source": [
    "def run_true_model():\n",
    "    batch_size = 1024\n",
    "    fig, ax = plt.subplots(1,1)\n",
    "    # results from actual interpolant\n",
    "    ts = np.linspace(0.0, 1.0, num=31, endpoint=True)\n",
    "    ens_s = eval_traj(ens1, ts, batch_size)\n",
    "    print(f'{ens_s.shape=}')\n",
    "    est_ens_s = al.bootstrap(ens_s, Nboot=100, f=al.rmean)\n",
    "    print(f'{est_ens_s[0].shape=}')\n",
    "    # results from true model\n",
    "    model = TrueModel(ens1[0])\n",
    "    n_step = 200\n",
    "    run_eval(model, ens1, n_step, batch_size, ax, rf'True model')\n",
    "    al.add_errorbar(est_ens_s, ax=ax, xs=ts, color='k', linestyle='--', label='Target avg action')\n",
    "    ax.legend(loc='lower left')\n",
    "    plt.show()\n",
    "run_true_model()"
   ]
  },
  {
   "cell_type": "markdown",
   "id": "1b321032-156e-4584-9748-fabd477fde15",
   "metadata": {},
   "source": [
    "# Regression"
   ]
  },
  {
   "cell_type": "code",
   "execution_count": 93,
   "id": "a9e90ffa-e9a3-4b18-af45-945112a4cabd",
   "metadata": {},
   "outputs": [
    {
     "name": "stdout",
     "output_type": "stream",
     "text": [
      "np_loss=array(0.)\n",
      "[PASSED test_true_model_loss]\n"
     ]
    }
   ],
   "source": [
    "def test_true_model_loss():\n",
    "    batch_size = 1024\n",
    "    v = batch_size\n",
    "    for di in ens1.shape[2:-1]:\n",
    "        v *= di\n",
    "    ts = torch.rand(batch_size)\n",
    "    x0 = generate_unif(Nc, size=v).reshape((2,-1)+ens1.shape[2:]).transpose(0,1)\n",
    "    x1 = ens1[np.random.randint(len(ens1), size=batch_size)]\n",
    "    model = TrueModel(ens1[0])\n",
    "    xt = interp(x0, x1, ts)\n",
    "    bt = model(xt, ts)\n",
    "    dtIt = dinterp_dt(x0, x1, ts)\n",
    "    loss = (\n",
    "        0.5*torch.sum(bt**2)\n",
    "        - torch.sum(dtIt * bt)\n",
    "        + 0.5*torch.sum(dtIt**2)\n",
    "    )\n",
    "    loss = loss / batch_size\n",
    "    np_loss = grab(loss)\n",
    "    print(f'{np_loss=}')\n",
    "    assert np.allclose(np_loss, 0.0)\n",
    "    print('[PASSED test_true_model_loss]')\n",
    "test_true_model_loss()"
   ]
  },
  {
   "cell_type": "code",
   "execution_count": 94,
   "id": "ec64393d-9949-4cac-b200-1507f555ac64",
   "metadata": {},
   "outputs": [],
   "source": [
    "def train_step(model, opt, sched, ts, x0, x1):\n",
    "    \"\"\"                                                                                                                   \n",
    "    Given a batch of configs `(x0,x1)` and interpolant times `ts`,                                                             \n",
    "    evaluate training loss and apply backprop.                                                                            \n",
    "    \"\"\"\n",
    "    opt.zero_grad()\n",
    "    batch_size = ts.shape[0]\n",
    "    xt = interp(x0, x1, ts)\n",
    "    bt = model(xt, ts)\n",
    "    dtIt = dinterp_dt(x0, x1, ts)\n",
    "    loss = (\n",
    "        0.5*torch.sum(bt**2)\n",
    "        - torch.sum(dtIt * bt)\n",
    "        + 0.5*torch.sum(dtIt**2)\n",
    "    )\n",
    "    loss = loss / batch_size\n",
    "    np_loss = grab(loss)\n",
    "    loss.backward()\n",
    "    grad_clip = float('inf')\n",
    "    g = grab(torch.nn.utils.clip_grad_norm_(model.parameters(), grad_clip))\n",
    "    opt.step()\n",
    "    sched.step(loss)\n",
    "    return dict(g=g, loss=np_loss)"
   ]
  },
  {
   "cell_type": "code",
   "execution_count": 95,
   "id": "d66d55a2-4607-4f0a-80e5-4d5c68ddf06d",
   "metadata": {},
   "outputs": [],
   "source": [
    "def run_train_epoch(model, opt, sched, ens1, n_iter):\n",
    "    n_cfg = len(ens1)\n",
    "    batch_size = 16\n",
    "    hist = dict()\n",
    "    Nc = ens1.shape[-1]\n",
    "    v = batch_size\n",
    "    for di in ens1.shape[2:-1]:\n",
    "        v *= di\n",
    "    latt_shape = ens1.shape[2:-1]\n",
    "    for i in tqdm.tqdm(range(n_iter), leave=False):\n",
    "        ts = torch.rand(batch_size)\n",
    "        x0 = generate_unif(Nc, size=v).reshape((2,-1)+ens1.shape[2:]).transpose(0,1)\n",
    "        x1 = ens1[np.random.randint(len(ens1), size=batch_size)]\n",
    "        res = train_step(model, opt, sched, ts, x0, x1)\n",
    "        for k in res:\n",
    "            if k not in hist:\n",
    "                hist[k] = []\n",
    "            hist[k].append(res[k])\n",
    "    for k in hist:\n",
    "        hist[k] = np.array(hist[k])\n",
    "    return hist"
   ]
  },
  {
   "cell_type": "code",
   "execution_count": 108,
   "id": "51f75fb1-96d0-44dc-a4da-f4669b90d4f7",
   "metadata": {},
   "outputs": [
    {
     "data": {
      "application/vnd.jupyter.widget-view+json": {
       "model_id": "fec836d8e8594c74badc82a0bd0f2f10",
       "version_major": 2,
       "version_minor": 0
      },
      "image/png": "[encoded data removed]",
      "text/html": [
       "\n",
       "            <div style=\"display: inline-block;\">\n",
       "                <div class=\"jupyter-widgets widget-label\" style=\"text-align: center;\">\n",
       "                    Figure\n",
       "                </div>\n",
       "                <img src='data:image/png;base64,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' width=400.0/>\n",
       "            </div>\n",
       "        "
      ],
      "text/plain": [
       "Canvas(toolbar=Toolbar(toolitems=[('Home', 'Reset original view', 'home', 'home'), ('Back', 'Back to previous …"
      ]
     },
     "metadata": {},
     "output_type": "display_data"
    }
   ],
   "source": [
    "fig, axes = plt.subplots(2,1, figsize=(4,4))\n",
    "axes[0].axhline(0.0, color='k', linewidth=0.5)\n",
    "axes[0].set_ylabel('Loss')\n",
    "axes[1].set_ylabel('Grad')\n",
    "axes[1].set_xlabel('Train iter')\n",
    "fig.set_tight_layout(True)\n",
    "plt.show()"
   ]
  },
  {
   "cell_type": "code",
   "execution_count": 111,
   "id": "19e5c881-e6a2-49fe-918d-6e22c05c3cfc",
   "metadata": {},
   "outputs": [
    {
     "data": {
      "application/vnd.jupyter.widget-view+json": {
       "model_id": "75ef061c10cd4ea1a1f5d17e1d930401",
       "version_major": 2,
       "version_minor": 0
      },
      "text/plain": [
       "  0%|          | 0/1000 [00:00<?, ?it/s]"
      ]
     },
     "metadata": {},
     "output_type": "display_data"
    },
    {
     "data": {
      "application/vnd.jupyter.widget-view+json": {
       "model_id": "",
       "version_major": 2,
       "version_minor": 0
      },
      "text/plain": [
       "  0%|          | 0/100 [00:00<?, ?it/s]"
      ]
     },
     "metadata": {},
     "output_type": "display_data"
    },
    {
     "name": "stdout",
     "output_type": "stream",
     "text": [
      "LR=0.001\n"
     ]
    },
    {
     "data": {
      "application/vnd.jupyter.widget-view+json": {
       "model_id": "",
       "version_major": 2,
       "version_minor": 0
      },
      "text/plain": [
       "  0%|          | 0/100 [00:00<?, ?it/s]"
      ]
     },
     "metadata": {},
     "output_type": "display_data"
    },
    {
     "name": "stdout",
     "output_type": "stream",
     "text": [
      "LR=0.001\n"
     ]
    },
    {
     "data": {
      "application/vnd.jupyter.widget-view+json": {
       "model_id": "",
       "version_major": 2,
       "version_minor": 0
      },
      "text/plain": [
       "  0%|          | 0/100 [00:00<?, ?it/s]"
      ]
     },
     "metadata": {},
     "output_type": "display_data"
    },
    {
     "name": "stdout",
     "output_type": "stream",
     "text": [
      "LR=0.001\n"
     ]
    },
    {
     "data": {
      "application/vnd.jupyter.widget-view+json": {
       "model_id": "",
       "version_major": 2,
       "version_minor": 0
      },
      "text/plain": [
       "  0%|          | 0/100 [00:00<?, ?it/s]"
      ]
     },
     "metadata": {},
     "output_type": "display_data"
    },
    {
     "name": "stdout",
     "output_type": "stream",
     "text": [
      "LR=0.001\n"
     ]
    },
    {
     "data": {
      "application/vnd.jupyter.widget-view+json": {
       "model_id": "",
       "version_major": 2,
       "version_minor": 0
      },
      "text/plain": [
       "  0%|          | 0/100 [00:00<?, ?it/s]"
      ]
     },
     "metadata": {},
     "output_type": "display_data"
    },
    {
     "name": "stdout",
     "output_type": "stream",
     "text": [
      "LR=0.001\n"
     ]
    },
    {
     "data": {
      "application/vnd.jupyter.widget-view+json": {
       "model_id": "",
       "version_major": 2,
       "version_minor": 0
      },
      "text/plain": [
       "  0%|          | 0/100 [00:00<?, ?it/s]"
      ]
     },
     "metadata": {},
     "output_type": "display_data"
    },
    {
     "name": "stdout",
     "output_type": "stream",
     "text": [
      "LR=0.0005\n"
     ]
    },
    {
     "data": {
      "application/vnd.jupyter.widget-view+json": {
       "model_id": "",
       "version_major": 2,
       "version_minor": 0
      },
      "text/plain": [
       "  0%|          | 0/100 [00:00<?, ?it/s]"
      ]
     },
     "metadata": {},
     "output_type": "display_data"
    },
    {
     "name": "stdout",
     "output_type": "stream",
     "text": [
      "LR=0.0005\n"
     ]
    },
    {
     "data": {
      "application/vnd.jupyter.widget-view+json": {
       "model_id": "",
       "version_major": 2,
       "version_minor": 0
      },
      "text/plain": [
       "  0%|          | 0/100 [00:00<?, ?it/s]"
      ]
     },
     "metadata": {},
     "output_type": "display_data"
    },
    {
     "name": "stdout",
     "output_type": "stream",
     "text": [
      "LR=0.0005\n"
     ]
    },
    {
     "data": {
      "application/vnd.jupyter.widget-view+json": {
       "model_id": "",
       "version_major": 2,
       "version_minor": 0
      },
      "text/plain": [
       "  0%|          | 0/100 [00:00<?, ?it/s]"
      ]
     },
     "metadata": {},
     "output_type": "display_data"
    },
    {
     "name": "stdout",
     "output_type": "stream",
     "text": [
      "LR=0.00025\n"
     ]
    },
    {
     "data": {
      "application/vnd.jupyter.widget-view+json": {
       "model_id": "",
       "version_major": 2,
       "version_minor": 0
      },
      "text/plain": [
       "  0%|          | 0/100 [00:00<?, ?it/s]"
      ]
     },
     "metadata": {},
     "output_type": "display_data"
    },
    {
     "name": "stdout",
     "output_type": "stream",
     "text": [
      "LR=0.00025\n"
     ]
    },
    {
     "data": {
      "application/vnd.jupyter.widget-view+json": {
       "model_id": "",
       "version_major": 2,
       "version_minor": 0
      },
      "text/plain": [
       "  0%|          | 0/100 [00:00<?, ?it/s]"
      ]
     },
     "metadata": {},
     "output_type": "display_data"
    },
    {
     "name": "stdout",
     "output_type": "stream",
     "text": [
      "LR=0.00025\n"
     ]
    },
    {
     "data": {
      "application/vnd.jupyter.widget-view+json": {
       "model_id": "",
       "version_major": 2,
       "version_minor": 0
      },
      "text/plain": [
       "  0%|          | 0/100 [00:00<?, ?it/s]"
      ]
     },
     "metadata": {},
     "output_type": "display_data"
    },
    {
     "name": "stdout",
     "output_type": "stream",
     "text": [
      "LR=0.000125\n"
     ]
    },
    {
     "data": {
      "application/vnd.jupyter.widget-view+json": {
       "model_id": "",
       "version_major": 2,
       "version_minor": 0
      },
      "text/plain": [
       "  0%|          | 0/100 [00:00<?, ?it/s]"
      ]
     },
     "metadata": {},
     "output_type": "display_data"
    },
    {
     "name": "stdout",
     "output_type": "stream",
     "text": [
      "LR=0.000125\n"
     ]
    },
    {
     "data": {
      "application/vnd.jupyter.widget-view+json": {
       "model_id": "",
       "version_major": 2,
       "version_minor": 0
      },
      "text/plain": [
       "  0%|          | 0/100 [00:00<?, ?it/s]"
      ]
     },
     "metadata": {},
     "output_type": "display_data"
    },
    {
     "name": "stdout",
     "output_type": "stream",
     "text": [
      "LR=0.000125\n"
     ]
    },
    {
     "data": {
      "application/vnd.jupyter.widget-view+json": {
       "model_id": "",
       "version_major": 2,
       "version_minor": 0
      },
      "text/plain": [
       "  0%|          | 0/100 [00:00<?, ?it/s]"
      ]
     },
     "metadata": {},
     "output_type": "display_data"
    },
    {
     "name": "stdout",
     "output_type": "stream",
     "text": [
      "LR=6.25e-05\n"
     ]
    },
    {
     "data": {
      "application/vnd.jupyter.widget-view+json": {
       "model_id": "",
       "version_major": 2,
       "version_minor": 0
      },
      "text/plain": [
       "  0%|          | 0/100 [00:00<?, ?it/s]"
      ]
     },
     "metadata": {},
     "output_type": "display_data"
    },
    {
     "name": "stdout",
     "output_type": "stream",
     "text": [
      "LR=6.25e-05\n"
     ]
    },
    {
     "data": {
      "application/vnd.jupyter.widget-view+json": {
       "model_id": "",
       "version_major": 2,
       "version_minor": 0
      },
      "text/plain": [
       "  0%|          | 0/100 [00:00<?, ?it/s]"
      ]
     },
     "metadata": {},
     "output_type": "display_data"
    },
    {
     "name": "stdout",
     "output_type": "stream",
     "text": [
      "LR=6.25e-05\n"
     ]
    },
    {
     "data": {
      "application/vnd.jupyter.widget-view+json": {
       "model_id": "",
       "version_major": 2,
       "version_minor": 0
      },
      "text/plain": [
       "  0%|          | 0/100 [00:00<?, ?it/s]"
      ]
     },
     "metadata": {},
     "output_type": "display_data"
    },
    {
     "name": "stdout",
     "output_type": "stream",
     "text": [
      "LR=3.125e-05\n"
     ]
    },
    {
     "data": {
      "application/vnd.jupyter.widget-view+json": {
       "model_id": "",
       "version_major": 2,
       "version_minor": 0
      },
      "text/plain": [
       "  0%|          | 0/100 [00:00<?, ?it/s]"
      ]
     },
     "metadata": {},
     "output_type": "display_data"
    },
    {
     "name": "stdout",
     "output_type": "stream",
     "text": [
      "LR=3.125e-05\n"
     ]
    },
    {
     "data": {
      "application/vnd.jupyter.widget-view+json": {
       "model_id": "",
       "version_major": 2,
       "version_minor": 0
      },
      "text/plain": [
       "  0%|          | 0/100 [00:00<?, ?it/s]"
      ]
     },
     "metadata": {},
     "output_type": "display_data"
    },
    {
     "name": "stdout",
     "output_type": "stream",
     "text": [
      "LR=3.125e-05\n"
     ]
    },
    {
     "data": {
      "application/vnd.jupyter.widget-view+json": {
       "model_id": "",
       "version_major": 2,
       "version_minor": 0
      },
      "text/plain": [
       "  0%|          | 0/100 [00:00<?, ?it/s]"
      ]
     },
     "metadata": {},
     "output_type": "display_data"
    },
    {
     "name": "stdout",
     "output_type": "stream",
     "text": [
      "LR=1.5625e-05\n"
     ]
    },
    {
     "data": {
      "application/vnd.jupyter.widget-view+json": {
       "model_id": "",
       "version_major": 2,
       "version_minor": 0
      },
      "text/plain": [
       "  0%|          | 0/100 [00:00<?, ?it/s]"
      ]
     },
     "metadata": {},
     "output_type": "display_data"
    },
    {
     "name": "stdout",
     "output_type": "stream",
     "text": [
      "LR=1.5625e-05\n"
     ]
    },
    {
     "data": {
      "application/vnd.jupyter.widget-view+json": {
       "model_id": "",
       "version_major": 2,
       "version_minor": 0
      },
      "text/plain": [
       "  0%|          | 0/100 [00:00<?, ?it/s]"
      ]
     },
     "metadata": {},
     "output_type": "display_data"
    },
    {
     "name": "stdout",
     "output_type": "stream",
     "text": [
      "LR=1.5625e-05\n"
     ]
    },
    {
     "data": {
      "application/vnd.jupyter.widget-view+json": {
       "model_id": "",
       "version_major": 2,
       "version_minor": 0
      },
      "text/plain": [
       "  0%|          | 0/100 [00:00<?, ?it/s]"
      ]
     },
     "metadata": {},
     "output_type": "display_data"
    },
    {
     "name": "stdout",
     "output_type": "stream",
     "text": [
      "LR=7.8125e-06\n"
     ]
    },
    {
     "data": {
      "application/vnd.jupyter.widget-view+json": {
       "model_id": "",
       "version_major": 2,
       "version_minor": 0
      },
      "text/plain": [
       "  0%|          | 0/100 [00:00<?, ?it/s]"
      ]
     },
     "metadata": {},
     "output_type": "display_data"
    },
    {
     "name": "stdout",
     "output_type": "stream",
     "text": [
      "LR=7.8125e-06\n"
     ]
    },
    {
     "data": {
      "application/vnd.jupyter.widget-view+json": {
       "model_id": "0361040657fb447982a37195ef2193b2",
       "version_major": 2,
       "version_minor": 0
      },
      "text/plain": [
       "  0%|          | 0/100 [00:00<?, ?it/s]"
      ]
     },
     "metadata": {},
     "output_type": "display_data"
    },
    {
     "name": "stdout",
     "output_type": "stream",
     "text": [
      "LR=7.8125e-06\n"
     ]
    },
    {
     "data": {
      "application/vnd.jupyter.widget-view+json": {
       "model_id": "28b1698b26dd4d1b925df68c6f6a75f1",
       "version_major": 2,
       "version_minor": 0
      },
      "text/plain": [
       "  0%|          | 0/100 [00:00<?, ?it/s]"
      ]
     },
     "metadata": {},
     "output_type": "display_data"
    },
    {
     "name": "stdout",
     "output_type": "stream",
     "text": [
      "LR=3.90625e-06\n"
     ]
    },
    {
     "data": {
      "application/vnd.jupyter.widget-view+json": {
       "model_id": "917144a2eef140d889413fa0c4d22855",
       "version_major": 2,
       "version_minor": 0
      },
      "text/plain": [
       "  0%|          | 0/100 [00:00<?, ?it/s]"
      ]
     },
     "metadata": {},
     "output_type": "display_data"
    },
    {
     "name": "stdout",
     "output_type": "stream",
     "text": [
      "LR=3.90625e-06\n"
     ]
    },
    {
     "data": {
      "application/vnd.jupyter.widget-view+json": {
       "model_id": "14485c63401248dfb76c6b6d601ed9e8",
       "version_major": 2,
       "version_minor": 0
      },
      "text/plain": [
       "  0%|          | 0/100 [00:00<?, ?it/s]"
      ]
     },
     "metadata": {},
     "output_type": "display_data"
    },
    {
     "name": "stdout",
     "output_type": "stream",
     "text": [
      "LR=3.90625e-06\n"
     ]
    },
    {
     "data": {
      "application/vnd.jupyter.widget-view+json": {
       "model_id": "3225f8355ce341718f2af9a87fbb3b61",
       "version_major": 2,
       "version_minor": 0
      },
      "text/plain": [
       "  0%|          | 0/100 [00:00<?, ?it/s]"
      ]
     },
     "metadata": {},
     "output_type": "display_data"
    },
    {
     "name": "stdout",
     "output_type": "stream",
     "text": [
      "LR=1.953125e-06\n"
     ]
    },
    {
     "data": {
      "application/vnd.jupyter.widget-view+json": {
       "model_id": "c525165530414dc7822d7c49990f9c8f",
       "version_major": 2,
       "version_minor": 0
      },
      "text/plain": [
       "  0%|          | 0/100 [00:00<?, ?it/s]"
      ]
     },
     "metadata": {},
     "output_type": "display_data"
    },
    {
     "name": "stdout",
     "output_type": "stream",
     "text": [
      "LR=1.953125e-06\n"
     ]
    },
    {
     "data": {
      "application/vnd.jupyter.widget-view+json": {
       "model_id": "9f713817134c4118a2ba7b147c696e5b",
       "version_major": 2,
       "version_minor": 0
      },
      "text/plain": [
       "  0%|          | 0/100 [00:00<?, ?it/s]"
      ]
     },
     "metadata": {},
     "output_type": "display_data"
    },
    {
     "name": "stdout",
     "output_type": "stream",
     "text": [
      "LR=1.953125e-06\n"
     ]
    },
    {
     "data": {
      "application/vnd.jupyter.widget-view+json": {
       "model_id": "5ae48a307596406abe54531a0b867bd2",
       "version_major": 2,
       "version_minor": 0
      },
      "text/plain": [
       "  0%|          | 0/100 [00:00<?, ?it/s]"
      ]
     },
     "metadata": {},
     "output_type": "display_data"
    },
    {
     "name": "stdout",
     "output_type": "stream",
     "text": [
      "LR=9.765625e-07\n"
     ]
    },
    {
     "data": {
      "text/plain": [
       "{'model': VelocityField(\n",
       "   (net): Sequential(\n",
       "     (0): Conv2d(10, 256, kernel_size=(3, 3), stride=(1, 1), padding=(1, 1), padding_mode=circular)\n",
       "     (1): SiLU()\n",
       "     (2): Conv2d(256, 256, kernel_size=(3, 3), stride=(1, 1), padding=(1, 1), padding_mode=circular)\n",
       "     (3): SiLU()\n",
       "     (4): Conv2d(256, 256, kernel_size=(3, 3), stride=(1, 1), padding=(1, 1), padding_mode=circular)\n",
       "     (5): SiLU()\n",
       "     (6): Conv2d(256, 6, kernel_size=(3, 3), stride=(1, 1), padding=(1, 1), padding_mode=circular)\n",
       "   )\n",
       " ),\n",
       " 'opt': Adam (\n",
       " Parameter Group 0\n",
       "     amsgrad: False\n",
       "     betas: (0.9, 0.999)\n",
       "     capturable: False\n",
       "     differentiable: False\n",
       "     eps: 1e-08\n",
       "     foreach: None\n",
       "     fused: None\n",
       "     lr: 9.765625e-07\n",
       "     maximize: False\n",
       "     weight_decay: 0\n",
       " ),\n",
       " 'all_hist': {'g': array([ 5.69917246, 10.46253969,  7.78395623, ...,  7.74956499,\n",
       "          6.43588773,  8.46024238]),\n",
       "  'loss': array([78.1529791 , 79.02941666, 79.03958766, ..., 77.48665287,\n",
       "         77.65054838, 80.71374693])}}"
      ]
     },
     "execution_count": 111,
     "metadata": {},
     "output_type": "execute_result"
    }
   ],
   "source": [
    "def run_normal_training(fig, axes, *, res=None):\n",
    "    n_epoch = 1000\n",
    "    n_batch = 100\n",
    "    model = VelocityField(Nc, latt_shape)\n",
    "    if res is None:\n",
    "        res = {}\n",
    "    all_hist = dict()\n",
    "    opt = torch.optim.Adam(model.parameters(), lr=1e-3)\n",
    "    sched = torch.optim.lr_scheduler.ReduceLROnPlateau(opt, factor=0.5, patience=300)\n",
    "    res['all_hist'] = all_hist\n",
    "    res['model'] = model\n",
    "    res['opt'] = opt\n",
    "    line_loss, line_grad = None, None\n",
    "    for i in tqdm.tqdm(range(n_epoch)):\n",
    "        hist = run_train_epoch(model, opt, sched, ens1, n_batch)\n",
    "        lr = opt.param_groups[0][\"lr\"]\n",
    "        print(f'LR={lr}')\n",
    "        if lr < 1e-6:\n",
    "            break\n",
    "        for k in hist:\n",
    "            if k not in all_hist:\n",
    "                all_hist[k] = []\n",
    "            all_hist[k] = np.concatenate([all_hist[k], hist[k]])\n",
    "        # update plots\n",
    "        if line_loss is not None:\n",
    "            line_loss.set_xdata(np.arange(len(all_hist['loss'])))\n",
    "            line_loss.set_ydata(all_hist['loss'])\n",
    "            line_grad.set_xdata(np.arange(len(all_hist['g'])))\n",
    "            line_grad.set_ydata(all_hist['g'])\n",
    "        else:\n",
    "            line_loss, = axes[0].plot(all_hist['loss'])\n",
    "            line_grad, = axes[1].plot(all_hist['g'])\n",
    "        for ax in axes:\n",
    "            ax.relim()\n",
    "            ax.autoscale_view()\n",
    "        fig.canvas.draw()\n",
    "    return dict(model=model, opt=opt, all_hist=all_hist)\n",
    "res = {}\n",
    "run_normal_training(fig, axes, res=res)"
   ]
  },
  {
   "cell_type": "code",
   "execution_count": 104,
   "id": "e897ab5f-22c5-4a31-a814-46636ee1ecf2",
   "metadata": {},
   "outputs": [
    {
     "data": {
      "application/vnd.jupyter.widget-view+json": {
       "model_id": "6463d5df02bf4da4ac6937066c6d104f",
       "version_major": 2,
       "version_minor": 0
      },
      "text/plain": [
       "  0%|          | 0/200 [00:00<?, ?it/s]"
      ]
     },
     "metadata": {},
     "output_type": "display_data"
    },
    {
     "data": {
      "application/vnd.jupyter.widget-view+json": {
       "model_id": "a1ef1e07995f4ecaa9185c30d3fa4115",
       "version_major": 2,
       "version_minor": 0
      },
      "image/png": "[encoded data removed]",
      "text/html": [
       "\n",
       "            <div style=\"display: inline-block;\">\n",
       "                <div class=\"jupyter-widgets widget-label\" style=\"text-align: center;\">\n",
       "                    Figure\n",
       "                </div>\n",
       "                <img src='data:image/png;base64,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' width=640.0/>\n",
       "            </div>\n",
       "        "
      ],
      "text/plain": [
       "Canvas(toolbar=Toolbar(toolitems=[('Home', 'Reset original view', 'home', 'home'), ('Back', 'Back to previous …"
      ]
     },
     "metadata": {},
     "output_type": "display_data"
    }
   ],
   "source": [
    "def run_ode_trained_model(model):\n",
    "    batch_size = 256\n",
    "    fig, ax = plt.subplots(1,1)\n",
    "    # results from actual interpolant\n",
    "    ts = np.linspace(0.0, 1.0, num=31, endpoint=True)\n",
    "    ens_s = eval_traj(ens1, ts, batch_size)\n",
    "    est_ens_s = al.bootstrap(ens_s, Nboot=100, f=al.rmean)\n",
    "    n_step = 200\n",
    "    # results from trained model\n",
    "    with torch.no_grad():\n",
    "        model.clamp = True\n",
    "        run_eval(model, ens1, n_step, batch_size, ax, rf'Trained model')\n",
    "        model.clamp = False\n",
    "    # results from true model\n",
    "    # model = TrueModel(ens1[0])\n",
    "    # run_eval(model, ens1, n_step, batch_size, ax, rf'True model')\n",
    "    al.add_errorbar(est_ens_s, ax=ax, xs=ts, color='k', linestyle='--', label='Target avg plaq')\n",
    "    ax.legend(loc='lower left')\n",
    "    plt.show()\n",
    "run_ode_trained_model(res['model'])"
   ]
  },
  {
   "cell_type": "code",
   "execution_count": null,
   "id": "44fe8b1a-eb16-42c2-90f2-61d42238cc0b",
   "metadata": {},
   "outputs": [],
   "source": []
  }
 ],
 "metadata": {
  "kernelspec": {
   "display_name": "Python 3 (ipykernel)",
   "language": "python",
   "name": "python3"
  },
  "language_info": {
   "codemirror_mode": {
    "name": "ipython",
    "version": 3
   },
   "file_extension": ".py",
   "mimetype": "text/x-python",
   "name": "python",
   "nbconvert_exporter": "python",
   "pygments_lexer": "ipython3",
   "version": "3.11.7"
  }
 },
 "nbformat": 4,
 "nbformat_minor": 5
}
