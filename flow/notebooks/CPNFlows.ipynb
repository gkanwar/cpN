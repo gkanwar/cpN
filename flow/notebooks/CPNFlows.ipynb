{
 "cells": [
  {
   "cell_type": "markdown",
   "id": "b0877727-fe72-4d6f-86fb-541ba5bc9dd6",
   "metadata": {},
   "source": [
    "# Introduction"
   ]
  },
  {
   "cell_type": "markdown",
   "id": "98e49ba8-462e-4dc5-b9ee-8fcf2c60e5e8",
   "metadata": {},
   "source": [
    "We consider 2D CP(N-1) lattice models with the gauge-free action\n",
    "$$\n",
    "S(z) = -\\beta \\sum_{\\left< xy \\right>} (|z_x^\\dagger z_y|^2 - 1), \\qquad \\sum_i |z_i|^2 = 1\n",
    "$$\n",
    "These models exhibit many of the features of Yang-Mills theory in a lower dimension, providing a useful testing ground of key ideas of flow-based sampling for LQFT. In particular, the focus of this project is to fully explore scaling in the continuum limit. Ideally we would demonstrate a significantly improved scaling of both training time and sampling time."
   ]
  },
  {
   "cell_type": "code",
   "execution_count": 181,
   "id": "b742cf48-80be-43d8-8378-7705643a9c8a",
   "metadata": {},
   "outputs": [],
   "source": [
    "import analysis as al\n",
    "import matplotlib.pyplot as plt\n",
    "import numpy as np\n",
    "import torch\n",
    "import torch.nn.functional as F\n",
    "import tqdm.auto as tqdm"
   ]
  },
  {
   "cell_type": "code",
   "execution_count": 2,
   "id": "b9fd2005-5b77-49a1-84c8-2dbfba5e7cdd",
   "metadata": {},
   "outputs": [],
   "source": [
    "%matplotlib widget"
   ]
  },
  {
   "cell_type": "code",
   "execution_count": 3,
   "id": "150afb85-9129-49f4-9643-749a895f7c39",
   "metadata": {},
   "outputs": [],
   "source": [
    "device = 'cpu'\n",
    "torch.set_default_device(device)\n",
    "torch.set_default_dtype(torch.float64)"
   ]
  },
  {
   "cell_type": "code",
   "execution_count": 120,
   "id": "0fd09704-5042-4e73-a69f-334a04c650f1",
   "metadata": {},
   "outputs": [],
   "source": [
    "def grab(x):\n",
    "    return x.detach().cpu().numpy()\n",
    "def wrap(x):\n",
    "    return (x + np.pi) % (2*np.pi) - np.pi"
   ]
  },
  {
   "cell_type": "code",
   "execution_count": 11,
   "id": "22e56f5c-7a60-4dfa-bc77-1aa4e03cc2e2",
   "metadata": {},
   "outputs": [],
   "source": [
    "Nd = 2"
   ]
  },
  {
   "cell_type": "markdown",
   "id": "17911b21-40ce-4b28-9abf-59fe7026c042",
   "metadata": {},
   "source": [
    "# Basic functions"
   ]
  },
  {
   "cell_type": "markdown",
   "id": "91fed0b0-db33-42a1-b780-aeca1b528529",
   "metadata": {},
   "source": [
    "We work with two possible representations of the CP(N-1) variables.\n",
    "\n",
    "  1. Complex vector $N$-dimensional vector $z_i \\in \\mathbb{C}$ subject to $\\sum_i |z_i|^2 = 1$.\n",
    "  2. Polar decomposition $z_i = \\sqrt{y_i} e^{i\\theta_i}$, with $y_i \\in \\mathbb{R}_{+}, \\theta_i \\in [-\\pi, \\pi]$ and $\\sum_i y_i = 1$."
   ]
  },
  {
   "cell_type": "code",
   "execution_count": 37,
   "id": "fbc097b9-1657-4898-92e0-84066932e7f6",
   "metadata": {},
   "outputs": [],
   "source": [
    "def np_to_polar(z):\n",
    "    y = np.abs(z)**2\n",
    "    th = np.angle(z)\n",
    "    return y,th\n",
    "def np_to_cartesian(y, th):\n",
    "    z = np.sqrt(y) * np.exp(1j*th)\n",
    "    return z\n",
    "def to_polar(z):\n",
    "    y = z.abs()**2\n",
    "    th = torch.angle(z)\n",
    "    return y,th\n",
    "def to_cartesian(y, th):\n",
    "    # norm = torch.sqrt(y.sum(dim=-1, keepdim=True))\n",
    "    z = torch.sqrt(y) * np.exp(1j*th)\n",
    "    return z"
   ]
  },
  {
   "cell_type": "code",
   "execution_count": 41,
   "id": "f8480468-a4e5-4033-9709-b23e07e13673",
   "metadata": {},
   "outputs": [],
   "source": [
    "def test_polar_cartesian():\n",
    "    Nc = 5\n",
    "    L = 4\n",
    "    z = np.random.normal(size=(L,L,Nc)) + 1j*np.random.normal(size=(L,L,Nc))\n",
    "    # test unnormalized\n",
    "    # z /= np.sqrt(np.sum(np.abs(z)**2, axis=-1, keepdims=True))\n",
    "    y,th = np_to_polar(z)\n",
    "    assert np.allclose(z, np_to_cartesian(y, th))\n",
    "    yp,thp = to_polar(torch.tensor(z))\n",
    "    assert np.allclose(z, grab(to_cartesian(yp, thp)))\n",
    "    assert np.allclose(y, grab(yp))\n",
    "    assert np.allclose(th, grab(thp))\n",
    "    print('[PASSED test_polar_cartesian]')\n",
    "# test_polar_cartesian()"
   ]
  },
  {
   "cell_type": "markdown",
   "id": "4649aa73-c5ea-4014-a46b-cb78c881553e",
   "metadata": {},
   "source": [
    "The action is implemented over the complex representation. We can always cast to it from underlying polar variables."
   ]
  },
  {
   "cell_type": "code",
   "execution_count": 250,
   "id": "c131e369-e42f-4926-bdd9-8aae17ee75c7",
   "metadata": {},
   "outputs": [],
   "source": [
    "def np_action_z(z: np.ndarray, *, beta):\n",
    "    \"\"\"CP(N-1) action assuming normalized z\"\"\"\n",
    "    S = 0\n",
    "    inds = tuple(range(len(z.shape)-Nd-1, len(z.shape)-1))\n",
    "    assert len(inds) == Nd\n",
    "    for mu,ind in zip(range(Nd), inds):\n",
    "        S = S - beta * np.sum(np.abs(np.sum(np.roll(z, -1, axis=ind) * np.conj(z), axis=-1))**2 - 1, axis=inds)\n",
    "    return S\n",
    "def action_z(z: torch.Tensor, *, beta):\n",
    "    \"\"\"CP(N-1) action assuming normalized z\"\"\"\n",
    "    S = 0\n",
    "    inds = tuple(range(len(z.shape)-Nd-1, len(z.shape)-1))\n",
    "    assert len(inds) == Nd\n",
    "    for mu,ind in zip(range(Nd), inds):\n",
    "        S = S - beta * torch.sum(torch.abs(\n",
    "            torch.sum(torch.roll(z, -1, dims=ind) * z.conj(), dim=-1))**2 - 1, dim=inds)\n",
    "    return S\n",
    "\n",
    "def action_y_th(y: torch.Tensor, th: torch.Tensor, *, beta):\n",
    "    \"\"\"CP(N-1) action given unnoramlized y and th\"\"\"\n",
    "    S = 0\n",
    "    inds = tuple(range(len(y.shape)-Nd-1, len(y.shape)-1))\n",
    "    assert len(inds) == Nd\n",
    "    m = y.sqrt()\n",
    "    m = m / y.sum(dim=-1, keepdim=True)\n",
    "    ph = torch.exp(1j*th)\n",
    "    for mu,ind in zip(range(Nd), inds):\n",
    "        m_fwd = torch.roll(m, -1, dims=ind)\n",
    "        ph_fwd = torch.roll(ph, -1, dims=ind)\n",
    "        local_S_mu = torch.sum(m_fwd * m * ph_fwd.conj() * ph, dim=-1).abs()**2\n",
    "        S = S - beta * (local_S_mu - 1).sum(inds)\n",
    "    return S\n",
    "\n",
    "def action_reg_y(y: torch.Tensor, *, kappa):\n",
    "    \"\"\"Action to regulate the sum of ys\"\"\"\n",
    "    # sum over all non-batch indices\n",
    "    inds = tuple(range(len(y.shape)-Nd-1, len(y.shape)))\n",
    "    return kappa * y.sum(inds)"
   ]
  },
  {
   "cell_type": "code",
   "execution_count": 251,
   "id": "cf0e6329-5c37-40b0-9d70-38159e409f0d",
   "metadata": {},
   "outputs": [
    {
     "name": "stdout",
     "output_type": "stream",
     "text": [
      "[PASSED test_batched_action]\n"
     ]
    }
   ],
   "source": [
    "def test_batched_action():\n",
    "    Nc = 5\n",
    "    L = 4\n",
    "    bs = (2,3)\n",
    "    z = np.random.normal(size=bs+(L,L,Nc)) + 1j*np.random.normal(size=bs+(L,L,Nc))\n",
    "    norm_z = np.sum(np.abs(z)**2, axis=-1, keepdims=True)\n",
    "    S = np_action_z(z/norm_z, beta=1.0)\n",
    "    assert S.shape == bs\n",
    "    Sp = action_z(torch.tensor(z/norm_z), beta=1.0)\n",
    "    assert np.allclose(grab(Sp), S)\n",
    "    Spp = action_y_th(*to_polar(torch.tensor(z)), beta=1.0)\n",
    "    assert np.allclose(grab(Spp), S)\n",
    "    print('[PASSED test_batched_action]')\n",
    "test_batched_action()"
   ]
  },
  {
   "cell_type": "code",
   "execution_count": 252,
   "id": "9335b1c4-0edb-458f-a34c-874e05a07da5",
   "metadata": {},
   "outputs": [],
   "source": [
    "def compute_ess(logw):\n",
    "    log_ess = 2*torch.logsumexp(logw, dim=0) - torch.logsumexp(2*logw, dim=0)\n",
    "    ess_per_cfg = torch.exp(log_ess) / len(logw)\n",
    "    return ess_per_cfg"
   ]
  },
  {
   "cell_type": "markdown",
   "id": "f22a4e05-3bf4-4913-a9c2-a3ddec5ea8b3",
   "metadata": {
    "jp-MarkdownHeadingCollapsed": true
   },
   "source": [
    "# RQS"
   ]
  },
  {
   "cell_type": "code",
   "execution_count": 19,
   "id": "4d0cdac1-2fac-4efb-a1cc-00624529e15f",
   "metadata": {},
   "outputs": [],
   "source": [
    "# Spline Coupling Utils\n",
    "DEFAULT_MIN_BIN_WIDTH = 1e-3\n",
    "DEFAULT_MIN_BIN_HEIGHT = 1e-3\n",
    "DEFAULT_MIN_DERIVATIVE = 1e-3\n",
    "DEFAULT_MIN_LOGJ_ARG = 0.\n",
    "\n",
    "# all inputs must be >= bin_locations\n",
    "def searchsorted(bin_locations, inputs, eps: float =1e-5):\n",
    "    answer =  torch.sum(\n",
    "        inputs[..., None] >= bin_locations,\n",
    "        dim=-1\n",
    "    ) - 1\n",
    "    return answer\n",
    "\n",
    "\n",
    "\n",
    "def unconstrained_RQS(inputs, unnormalized_widths, unnormalized_heights,\n",
    "                      unnormalized_derivatives, *, inverse,\n",
    "                      tail_bound, min_bin_width=DEFAULT_MIN_BIN_WIDTH,\n",
    "                      min_bin_height=DEFAULT_MIN_BIN_HEIGHT,\n",
    "                      min_derivative=DEFAULT_MIN_DERIVATIVE):\n",
    "    # reshape flat\n",
    "    input_shape = inputs.shape\n",
    "    inputs = torch.flatten(inputs, start_dim=1)\n",
    "    unnormalized_widths = torch.flatten(unnormalized_widths, start_dim=2) #shape K\n",
    "    unnormalized_heights = torch.flatten(unnormalized_heights, start_dim=2) #shape K\n",
    "    unnormalized_derivatives = torch.flatten(unnormalized_derivatives, start_dim=2) #shape K-1\n",
    "    unnormalized_widths = torch.transpose(unnormalized_widths, 1, 2)\n",
    "    unnormalized_heights = torch.transpose(unnormalized_heights, 1, 2)\n",
    "    unnormalized_derivatives = torch.transpose(unnormalized_derivatives, 1, 2)\n",
    "\n",
    "\n",
    "    inside_intvl_mask = (inputs >= -tail_bound) & (inputs <= tail_bound)\n",
    "    outside_interval_mask = ~inside_intvl_mask\n",
    "\n",
    "    outputs = torch.zeros_like(inputs)\n",
    "    logabsdet = torch.zeros_like(inputs)\n",
    "\n",
    "    unnormalized_derivatives = F.pad(unnormalized_derivatives, pad=(1, 1))\n",
    "    constant = np.log(np.exp(1 - min_derivative) - 1)\n",
    "    unnormalized_derivatives[..., 0] = constant\n",
    "    unnormalized_derivatives[..., -1] = constant\n",
    "\n",
    "    outputs[outside_interval_mask] = inputs[outside_interval_mask]\n",
    "    logabsdet[outside_interval_mask] = 0\n",
    "\n",
    "    tail_bound = torch.tensor([tail_bound], device=inputs.device) if not torch.is_tensor(tail_bound) else tail_bound\n",
    "    tail_bound = torch.flatten(tail_bound.broadcast_to(input_shape), start_dim=1)[inside_intvl_mask]\n",
    "\n",
    "    outputs[inside_intvl_mask], logabsdet[inside_intvl_mask] = RQS(\n",
    "        inputs=inputs[inside_intvl_mask],\n",
    "        unnormalized_widths=unnormalized_widths[inside_intvl_mask, :],\n",
    "        unnormalized_heights=unnormalized_heights[inside_intvl_mask, :],\n",
    "        unnormalized_derivatives=unnormalized_derivatives[inside_intvl_mask, :],\n",
    "        inverse=inverse,\n",
    "        left=-tail_bound, right=tail_bound, bottom=-tail_bound, top=tail_bound,\n",
    "        min_bin_width=min_bin_width,\n",
    "        min_bin_height=min_bin_height,\n",
    "        min_derivative=min_derivative\n",
    "    )\n",
    "\n",
    "    # reshape dimensionful\n",
    "    outputs = outputs.view(input_shape)\n",
    "    logabsdet = logabsdet.view(input_shape)\n",
    "    return outputs, logabsdet\n",
    "\n",
    "\n",
    "def circle_RQS(inputs, unnormalized_widths, unnormalized_heights,\n",
    "                      unnormalized_derivatives, *, inverse,\n",
    "                      circle_range_left, circle_range_right,\n",
    "                      interval_normalize = True,\n",
    "                      min_bin_width=DEFAULT_MIN_BIN_WIDTH,\n",
    "                      min_bin_height=DEFAULT_MIN_BIN_HEIGHT,\n",
    "                      min_derivative=DEFAULT_MIN_DERIVATIVE):\n",
    "    min_bin_width = max(min_bin_width, DEFAULT_MIN_BIN_WIDTH)\n",
    "    min_bin_height = max(min_bin_height, DEFAULT_MIN_BIN_HEIGHT)\n",
    "    min_derivative = max(min_derivative, DEFAULT_MIN_DERIVATIVE)\n",
    "\n",
    "    input_shape = inputs.shape  # [bs, Ls, ...]\n",
    "    inputs = torch.flatten(inputs, start_dim=1)  # -> [bs, V]\n",
    "    unnormalized_widths = torch.flatten(unnormalized_widths, start_dim=2)  # [bs, K, Ls, ...] -> [bs, K, V]\n",
    "    unnormalized_heights = torch.flatten(unnormalized_heights, start_dim=2)\n",
    "    unnormalized_derivatives = torch.flatten(unnormalized_derivatives, start_dim=2)\n",
    "    unnormalized_widths = torch.transpose(unnormalized_widths, 1, 2)  # -> [bs, V, K]\n",
    "    unnormalized_heights = torch.transpose(unnormalized_heights, 1, 2)\n",
    "    unnormalized_derivatives = torch.transpose(unnormalized_derivatives, 1, 2)  # -> [bs, V, K]\n",
    "\n",
    "    unnormalized_derivatives = F.pad(unnormalized_derivatives, pad=(0, 1))\n",
    "    unnormalized_derivatives[..., -1] = unnormalized_derivatives[..., 0]\n",
    "\n",
    "\n",
    "    circle_range_left, circle_range_right = map(lambda x: torch.tensor([x], device=inputs.device)\n",
    "        if not torch.is_tensor(x) else x, [circle_range_left, circle_range_right])\n",
    "    circle_range_left, circle_range_right = map(lambda x: torch.flatten(x.broadcast_to(input_shape), start_dim=1),\n",
    "        [circle_range_left, circle_range_right])\n",
    "    outputs, logabsdet = RQS(\n",
    "        inputs=inputs,\n",
    "        unnormalized_widths=unnormalized_widths,\n",
    "        unnormalized_heights=unnormalized_heights,\n",
    "        unnormalized_derivatives=unnormalized_derivatives,\n",
    "        inverse=inverse,\n",
    "        left=circle_range_left, right=torch.nextafter(circle_range_right, torch.tensor(float('inf'))),\n",
    "        bottom=circle_range_left, top=circle_range_right,\n",
    "        interval_normalize=interval_normalize,\n",
    "        min_bin_width=min_bin_width,\n",
    "        min_bin_height=min_bin_height,\n",
    "        min_derivative=min_derivative\n",
    "    )\n",
    "\n",
    "    outputs = outputs.view(input_shape)\n",
    "    logabsdet = logabsdet.view(input_shape)\n",
    "    return outputs, logabsdet\n",
    "\n",
    "\n",
    "def open_RQS(inputs, unnormalized_widths, unnormalized_heights,\n",
    "                      unnormalized_derivatives, *, inverse,\n",
    "                      left=0., right=1.,bottom=0., top=1.,\n",
    "                      min_bin_width=DEFAULT_MIN_BIN_WIDTH,\n",
    "                      min_bin_height=DEFAULT_MIN_BIN_HEIGHT,\n",
    "                      min_derivative=DEFAULT_MIN_DERIVATIVE):\n",
    "    min_bin_width = max(min_bin_width, DEFAULT_MIN_BIN_WIDTH)\n",
    "    min_bin_height = max(min_bin_height, DEFAULT_MIN_BIN_HEIGHT)\n",
    "    min_derivative = max(min_derivative, DEFAULT_MIN_DERIVATIVE)\n",
    "\n",
    "    input_shape = inputs.shape\n",
    "    inputs = torch.flatten(inputs, start_dim=1)\n",
    "    unnormalized_widths = torch.flatten(unnormalized_widths, start_dim=2)\n",
    "    unnormalized_heights = torch.flatten(unnormalized_heights, start_dim=2) #shape K\n",
    "    unnormalized_derivatives = torch.flatten(unnormalized_derivatives, start_dim=2) #shape K+1\n",
    "    unnormalized_widths = torch.transpose(unnormalized_widths, 1, 2)\n",
    "    unnormalized_heights = torch.transpose(unnormalized_heights, 1, 2)\n",
    "    unnormalized_derivatives = torch.transpose(unnormalized_derivatives, 1, 2)\n",
    "\n",
    "    left1, right1, bottom1, top1 = map(lambda x: torch.tensor([x], device=inputs.device)\n",
    "        if not torch.is_tensor(x) else x, [left, right, bottom, top])\n",
    "\n",
    "    outputs, logabsdet = RQS(\n",
    "        inputs=inputs,\n",
    "        unnormalized_widths=unnormalized_widths,\n",
    "        unnormalized_heights=unnormalized_heights,\n",
    "        unnormalized_derivatives=unnormalized_derivatives,\n",
    "        inverse=inverse,\n",
    "        left=torch.flatten(left1.broadcast_to(input_shape), start_dim=1),\n",
    "        right=torch.flatten(right1.broadcast_to(input_shape), start_dim=1),\n",
    "        bottom=torch.flatten(bottom1.broadcast_to(input_shape), start_dim=1),\n",
    "        top=torch.flatten(top1.broadcast_to(input_shape), start_dim=1),\n",
    "        min_bin_width=min_bin_width,\n",
    "        min_bin_height=min_bin_height,\n",
    "        min_derivative=min_derivative\n",
    "    )\n",
    "\n",
    "    outputs = outputs.view(input_shape)\n",
    "    logabsdet = logabsdet.view(input_shape)\n",
    "    return outputs, logabsdet\n",
    "\n",
    "\n",
    "# RQS acting on the positive real axis; for values outside of\n",
    "# [min_value, max_value] applies the identity.\n",
    "def positive_RQS(inputs, unnormalized_widths, unnormalized_heights,\n",
    "                 unnormalized_derivatives, *, inverse,\n",
    "                 min_value, max_value,\n",
    "                 min_bin_width=DEFAULT_MIN_BIN_WIDTH,\n",
    "                 min_bin_height=DEFAULT_MIN_BIN_HEIGHT,\n",
    "                 min_derivative=DEFAULT_MIN_DERIVATIVE):\n",
    "    min_bin_width = max(min_bin_width, DEFAULT_MIN_BIN_WIDTH)\n",
    "    min_bin_height = max(min_bin_height, DEFAULT_MIN_BIN_HEIGHT)\n",
    "    min_derivative = max(min_derivative, DEFAULT_MIN_DERIVATIVE)\n",
    "\n",
    "    input_shape = inputs.shape\n",
    "    inputs = torch.flatten(inputs, start_dim=1)\n",
    "    unnormalized_widths = torch.flatten(unnormalized_widths, start_dim=2)\n",
    "    unnormalized_heights = torch.flatten(unnormalized_heights, start_dim=2) #shape K\n",
    "    unnormalized_derivatives = torch.flatten(unnormalized_derivatives, start_dim=2) #shape K+1\n",
    "    unnormalized_widths = torch.transpose(unnormalized_widths, 1, 2)\n",
    "    unnormalized_heights = torch.transpose(unnormalized_heights, 1, 2)\n",
    "    unnormalized_derivatives = torch.transpose(unnormalized_derivatives, 1, 2)\n",
    "\n",
    "    inside_intvl_mask = (inputs >= min_value) & (inputs <= max_value)\n",
    "    outside_interval_mask = ~inside_intvl_mask\n",
    "\n",
    "    outputs = torch.zeros_like(inputs)\n",
    "    logabsdet = torch.zeros_like(inputs)\n",
    "\n",
    "    unnormalized_derivatives = F.pad(unnormalized_derivatives, pad=(1, 1))\n",
    "    constant = np.log(np.exp(1 - min_derivative) - 1)\n",
    "    unnormalized_derivatives[..., 0] = constant\n",
    "    unnormalized_derivatives[..., -1] = constant\n",
    "\n",
    "    outputs[outside_interval_mask] = inputs[outside_interval_mask]\n",
    "    logabsdet[outside_interval_mask] = 0\n",
    "\n",
    "    outputs[inside_intvl_mask], logabsdet[inside_intvl_mask] = RQS(\n",
    "        inputs=inputs[inside_intvl_mask],\n",
    "        unnormalized_widths=unnormalized_widths[inside_intvl_mask, :],\n",
    "        unnormalized_heights=unnormalized_heights[inside_intvl_mask, :],\n",
    "        unnormalized_derivatives=unnormalized_derivatives[inside_intvl_mask, :],\n",
    "        inverse=inverse,\n",
    "        left=min_value, right=max_value,\n",
    "        bottom=min_value, top=max_value,\n",
    "        min_bin_width=min_bin_width,\n",
    "        min_bin_height=min_bin_height,\n",
    "        min_derivative=min_derivative\n",
    "    )\n",
    "\n",
    "    outputs = outputs.view(input_shape)\n",
    "    logabsdet = logabsdet.view(input_shape)\n",
    "    return outputs, logabsdet\n",
    "\n",
    "# @torch.jit.script\n",
    "def RQS(inputs, unnormalized_widths, unnormalized_heights,\n",
    "        unnormalized_derivatives, inverse : bool =False, left: float =0., right:float =1.,\n",
    "        bottom:float =0., top:float=1., interval_normalize:bool = True,\n",
    "        min_bin_width:float=DEFAULT_MIN_BIN_WIDTH,\n",
    "        min_bin_height:float=DEFAULT_MIN_BIN_HEIGHT,\n",
    "        min_derivative:float=DEFAULT_MIN_DERIVATIVE):\n",
    "    '''\n",
    "    input [bs, V]\n",
    "    widths/heights [bs, V, K]\n",
    "    derivatives [bs, V, K+1]\n",
    "    '''\n",
    "    # if not inverse:\n",
    "    #     assert torch.all(inputs >= left[...,0]), f'outside left interval: {inputs[inputs>left[...,0]]} < {left[...,0][inputs>left[...,0]]}'\n",
    "    #     assert torch.all(inputs <= right[...,0]), f'outside right interval: {torch.max(inputs)} > {right}'\n",
    "    # else:\n",
    "    #     assert torch.all(inputs >= bottom[...,0]), f'outside left interval: {inputs[inputs>left[...,0]]} < {left[...,0][inputs>left[...,0]]}'\n",
    "    #     assert torch.all(inputs <= top[...,0]), f'outside right interval: {torch.max(inputs)} > {right}'\n",
    "\n",
    "    if not inverse:\n",
    "        assert torch.all(inputs >= left), f'outside left interval: {inputs[~(inputs>=left)]} < {left[~(inputs>=left)]}'\n",
    "        assert torch.all(inputs <= right), f'outside right interval: {inputs[~(inputs<=right)]} < {right[~(inputs<=right)]}'\n",
    "    else:\n",
    "        assert torch.all(inputs >= bottom), f'outside left interval: {inputs[~(inputs<=left)]} < {left[~(inputs<=left)]}'\n",
    "        assert torch.all(inputs <= top), f'outside right interval: {inputs[~(inputs<=top)]} > {top[~(inputs<=top)]}'\n",
    "\n",
    "\n",
    "    num_bins = unnormalized_widths.shape[-1]\n",
    "\n",
    "    assert min_bin_width * num_bins <= 1.0, \\\n",
    "        'Minimal bin width too large for the number of bins'\n",
    "    assert min_bin_height * num_bins <= 1.0, \\\n",
    "        'Minimal bin height too large for the number of bins'\n",
    "\n",
    "    # trick for numerical stability of stability softmax\n",
    "    if interval_normalize:\n",
    "        unnormalized_widths = unnormalized_widths - torch.max(unnormalized_widths, dim=-1, keepdim=True)[0]\n",
    "        unnormalized_widths = F.softmax(unnormalized_widths, dim=-1)  # possible numerical issues\n",
    "    widths = unnormalized_widths\n",
    "    widths = min_bin_width + (1 - min_bin_width * num_bins) * widths\n",
    "    cumwidths = torch.cumsum(widths, dim=-1)\n",
    "    cumwidths = F.pad(cumwidths, pad=(1, 0), mode='constant', value=0.0)  # [bs, V, K+1]\n",
    "    cumwidths = (right - left).unsqueeze(-1) * cumwidths + left.unsqueeze(-1)\n",
    "    cumwidths[..., 0] = left\n",
    "    cumwidths[..., -1] = right\n",
    "    widths = cumwidths[..., 1:] - cumwidths[..., :-1]  # [bs, V, K]\n",
    "\n",
    "    # The offset is such that the normalized knot slope will be equal to 1\n",
    "    # whenever the unnormalized knot slope is equal to 0.\n",
    "    dir_offset = torch.log(torch.exp(torch.ones_like(unnormalized_derivatives) - min_derivative) - 1)\n",
    "    derivatives =  min_derivative + F.softplus(unnormalized_derivatives + dir_offset)  # stable\n",
    "\n",
    "    if interval_normalize:\n",
    "        # trick for numerical stability of stability softmax\n",
    "        unnormalized_heights = unnormalized_heights - torch.max(unnormalized_heights, dim=-1, keepdim=True)[0]\n",
    "        unnormalized_heights = F.softmax(unnormalized_heights, dim=-1)\n",
    "    heights = unnormalized_heights\n",
    "    heights = min_bin_height + (1 - min_bin_height * num_bins) * heights\n",
    "    cumheights = torch.cumsum(heights, dim=-1)\n",
    "    cumheights = F.pad(cumheights, pad=(1, 0), mode='constant', value=0.0)\n",
    "    cumheights = (top - bottom).unsqueeze(-1) * cumheights + bottom.unsqueeze(-1)\n",
    "    cumheights[..., 0] = bottom\n",
    "    cumheights[..., -1] = top\n",
    "    heights = cumheights[..., 1:] - cumheights[..., :-1]\n",
    "\n",
    "    # for stability do not compare with end of interval\n",
    "    if not inverse:\n",
    "        bin_idx = searchsorted(cumwidths[..., :-1], inputs)[..., None]\n",
    "    else:\n",
    "        bin_idx = searchsorted(cumheights[..., :-1], inputs)[..., None]  # [bs, V, 1]\n",
    "\n",
    "    input_cumwidths = cumwidths.gather(-1, bin_idx)[..., 0]  # [bs, V]\n",
    "    input_bin_widths = widths.gather(-1, bin_idx)[..., 0]\n",
    "\n",
    "    input_cumheights = cumheights.gather(-1, bin_idx)[..., 0]\n",
    "    delta = heights / widths\n",
    "    input_delta = delta.gather(-1, bin_idx)[..., 0]\n",
    "\n",
    "    input_derivatives = derivatives.gather(-1, bin_idx)[..., 0]\n",
    "    input_derivatives_plus_one = torch.roll(derivatives, -1, -1).gather(-1, bin_idx)[..., 0]\n",
    "\n",
    "    input_heights = heights.gather(-1, bin_idx)[..., 0]\n",
    "\n",
    "    if not inverse:\n",
    "        theta = (inputs - input_cumwidths) / input_bin_widths\n",
    "        # theta should be in range [0, 1] to avoid NaNs later. This can happen because\n",
    "        # of small floating point issues or when inputs is outside of the range\n",
    "        theta = torch.clamp(theta, 0., 1.)\n",
    "        theta_one_minus_theta = theta * (1 - theta)\n",
    "\n",
    "        numerator = input_heights * (input_delta * theta.pow(2)\n",
    "                    + input_derivatives * theta_one_minus_theta)\n",
    "        denominator = input_delta + ((input_derivatives\n",
    "                      + input_derivatives_plus_one - 2 * input_delta)\n",
    "                      * theta_one_minus_theta)\n",
    "        outputs = input_cumheights + numerator / denominator\n",
    "\n",
    "        derivative_numerator = (\n",
    "            input_delta.pow(2) *\n",
    "            (input_derivatives_plus_one * theta.pow(2)\n",
    "             + 2 * input_delta * theta_one_minus_theta\n",
    "             + input_derivatives * (1 - theta).pow(2)))\n",
    "        # The logdet is a sum of 3 logs. It is easy to see that the inputs of the\n",
    "        # first two logs are guaranteed to be positive because we ensured that z is in\n",
    "        # [0, 1]. This is also true of the log(denominator) because:\n",
    "        # denominator\n",
    "        # == bin_slope + (knot_slopes[i+1] + knot_slopes[i] - 2 * bin_slope) * z*(1-z)\n",
    "        # >= bin_slope - 2 * bin_slope * z * (1-z)\n",
    "        # >= bin_slope - 2 * bin_slope * (1/4)\n",
    "        # == bin_slope / 2\n",
    "        logdet = torch.log(derivative_numerator) - 2 * torch.log(denominator)\n",
    "        return outputs, logdet\n",
    "    else:\n",
    "        a = (((inputs - input_cumheights) * (input_derivatives\n",
    "            + input_derivatives_plus_one - 2 * input_delta)\n",
    "            + input_heights * (input_delta - input_derivatives)))\n",
    "        b = (input_heights * input_derivatives - (inputs - input_cumheights)\n",
    "            * (input_derivatives + input_derivatives_plus_one\n",
    "            - 2 * input_delta))\n",
    "        c = - input_delta * (inputs - input_cumheights)\n",
    "\n",
    "        discriminant = b.pow(2) - 4 * a * c\n",
    "        assert (discriminant >= 0).all(), f\"Discriminant < 0: {discriminant[discriminant<0]}\"\n",
    "\n",
    "        root = (2 * c) / (-b - torch.sqrt(discriminant))\n",
    "        outputs = root * input_bin_widths + input_cumwidths\n",
    "\n",
    "        theta_one_minus_theta = root * (1 - root)\n",
    "        denominator = (input_delta +\n",
    "                       ((input_derivatives + input_derivatives_plus_one\n",
    "                         - 2 * input_delta) * theta_one_minus_theta))\n",
    "        derivative_numerator = (\n",
    "            input_delta.pow(2)\n",
    "            * (input_derivatives_plus_one * root.pow(2)\n",
    "               + 2 * input_delta * theta_one_minus_theta\n",
    "               + input_derivatives * (1 - root).pow(2)))\n",
    "        # logabsdet = torch.log(derivative_numerator) - 2 * torch.log(denominator)\n",
    "        # for numerical stability\n",
    "        det = derivative_numerator / denominator**2\n",
    "        safe_det = torch.where(det > 0, det, torch.zeros_like(det))\n",
    "        logabsdet = torch.where(det > 0,\n",
    "            torch.log(safe_det),\n",
    "            torch.zeros_like(det))\n",
    "\n",
    "        return outputs, -logabsdet\n",
    "\n",
    "\n",
    "def open_RQS_tensor_limits(inputs, unnormalized_widths, unnormalized_heights,\n",
    "                      unnormalized_derivatives, *, inverse,\n",
    "                      left, right, bottom, top,\n",
    "                      min_bin_width=DEFAULT_MIN_BIN_WIDTH,\n",
    "                      min_bin_height=DEFAULT_MIN_BIN_HEIGHT,\n",
    "                      min_derivative=DEFAULT_MIN_DERIVATIVE):\n",
    "    min_bin_width = max(min_bin_width, DEFAULT_MIN_BIN_WIDTH)\n",
    "    min_bin_height = max(min_bin_height, DEFAULT_MIN_BIN_HEIGHT)\n",
    "    min_derivative = max(min_derivative, DEFAULT_MIN_DERIVATIVE)\n",
    "\n",
    "    input_shape = inputs.shape\n",
    "    inputs = torch.flatten(inputs, start_dim=1)\n",
    "    unnormalized_widths = torch.flatten(unnormalized_widths, start_dim=2) #shape K\n",
    "    unnormalized_heights = torch.flatten(unnormalized_heights, start_dim=2) #shape K\n",
    "    unnormalized_derivatives = torch.flatten(unnormalized_derivatives, start_dim=2) #shape K+1\n",
    "    unnormalized_widths = torch.transpose(unnormalized_widths, 1, 2)\n",
    "    unnormalized_heights = torch.transpose(unnormalized_heights, 1, 2)\n",
    "    unnormalized_derivatives = torch.transpose(unnormalized_derivatives, 1, 2)\n",
    "\n",
    "\n",
    "    reshaped_left = torch.flatten(left, start_dim=2) # [nConf, 1, Lx, Ly, ..] -> [nConf, 1, V]\n",
    "    reshaped_right = torch.flatten(right, start_dim=2)\n",
    "    reshaped_bottom = torch.flatten(bottom, start_dim=2)\n",
    "    reshaped_top = torch.flatten(top, start_dim=2)\n",
    "    reshaped_left = torch.transpose(left, 1, 2)  # [nConf, 1, V] -> [nConf, V, 1]\n",
    "    reshaped_right = torch.transpose(right, 1, 2)  #last dim - K or channels emulated\n",
    "    reshaped_bottom = torch.transpose(bottom, 1, 2)\n",
    "    reshaped_top = torch.transpose(top, 1, 2)\n",
    "\n",
    "    outputs, logabsdet = RQS_tensor_limits(\n",
    "        inputs=inputs,\n",
    "        unnormalized_widths=unnormalized_widths,\n",
    "        unnormalized_heights=unnormalized_heights,\n",
    "        unnormalized_derivatives=unnormalized_derivatives,\n",
    "        inverse=inverse,\n",
    "        left=reshaped_left, right=reshaped_right,\n",
    "        bottom=reshaped_bottom, top=reshaped_top,\n",
    "        min_bin_width=min_bin_width,\n",
    "        min_bin_height=min_bin_height,\n",
    "        min_derivative=min_derivative\n",
    "    )\n",
    "\n",
    "    outputs = outputs.view(input_shape)\n",
    "    logabsdet = logabsdet.view(input_shape)\n",
    "    return outputs, logabsdet\n",
    "\n",
    "def RQS_tensor_limits(inputs, unnormalized_widths, unnormalized_heights,\n",
    "        unnormalized_derivatives, inverse=False, left=0., right=1.,\n",
    "        bottom=0., top=1., min_bin_width=DEFAULT_MIN_BIN_WIDTH,\n",
    "        min_bin_height=DEFAULT_MIN_BIN_HEIGHT,\n",
    "        min_derivative=DEFAULT_MIN_DERIVATIVE):\n",
    "    # if torch.min(inputs) < left or torch.max(inputs) > right:\n",
    "    if torch.any(inputs < left) or torch.any(inputs > right):\n",
    "        raise ValueError(\"Input outside domain\")\n",
    "\n",
    "    num_bins = unnormalized_widths.shape[-1]\n",
    "\n",
    "    if min_bin_width * num_bins > 1.0:\n",
    "        raise ValueError('Minimal bin width too large for the number of bins')\n",
    "    if min_bin_height * num_bins > 1.0:\n",
    "        raise ValueError('Minimal bin height too large for the number of bins')\n",
    "\n",
    "    widths = F.softmax(unnormalized_widths, dim=-1)\n",
    "    widths = min_bin_width + (1 - min_bin_width * num_bins) * widths\n",
    "    cumwidths = torch.cumsum(widths, dim=-1)\n",
    "    cumwidths = (right - left) * cumwidths + left\n",
    "    cumwidths = F.pad(cumwidths, pad=(1, 0), mode='constant', value=0.0)\n",
    "    cumwidths[..., 0] = left.squeeze(-1)\n",
    "    cumwidths[..., -1] = right.squeeze(-1)\n",
    "    widths = cumwidths[..., 1:] - cumwidths[..., :-1]\n",
    "\n",
    "    derivatives =  min_derivative + F.softplus(unnormalized_derivatives)\n",
    "\n",
    "    heights = F.softmax(unnormalized_heights, dim=-1)\n",
    "    heights = min_bin_height + (1 - min_bin_height * num_bins) * heights\n",
    "    cumheights = torch.cumsum(heights, dim=-1)\n",
    "    cumheights = (top - bottom) * cumheights + bottom\n",
    "    cumheights = F.pad(cumheights, pad=(1, 0), mode='constant', value=0.0)\n",
    "    cumheights[..., 0] = bottom.squeeze(-1)\n",
    "    cumheights[..., -1] = top.squeeze(-1)\n",
    "    heights = cumheights[..., 1:] - cumheights[..., :-1]\n",
    "\n",
    "    if inverse:\n",
    "        bin_idx = searchsorted(cumheights, inputs)[..., None]\n",
    "    else:\n",
    "        bin_idx = searchsorted(cumwidths, inputs)[..., None]\n",
    "\n",
    "    input_cumwidths = cumwidths.gather(-1, bin_idx)[..., 0]\n",
    "    input_bin_widths = widths.gather(-1, bin_idx)[..., 0]\n",
    "\n",
    "    input_cumheights = cumheights.gather(-1, bin_idx)[..., 0]\n",
    "    delta = heights / widths\n",
    "    input_delta = delta.gather(-1, bin_idx)[..., 0]\n",
    "\n",
    "    input_derivatives = derivatives.gather(-1, bin_idx)[..., 0]\n",
    "    input_derivatives_plus_one = torch.roll(derivatives, -1, -1).gather(-1, bin_idx)[..., 0]\n",
    "\n",
    "    input_heights = heights.gather(-1, bin_idx)[..., 0]\n",
    "\n",
    "    if inverse:\n",
    "        a = (((inputs - input_cumheights) * (input_derivatives\n",
    "            + input_derivatives_plus_one - 2 * input_delta)\n",
    "            + input_heights * (input_delta - input_derivatives)))\n",
    "        b = (input_heights * input_derivatives - (inputs - input_cumheights)\n",
    "            * (input_derivatives + input_derivatives_plus_one\n",
    "            - 2 * input_delta))\n",
    "        c = - input_delta * (inputs - input_cumheights)\n",
    "\n",
    "        discriminant = b.pow(2) - 4 * a * c\n",
    "        assert (discriminant >= 0).all()\n",
    "\n",
    "        root = (2 * c) / (-b - torch.sqrt(discriminant))\n",
    "        outputs = root * input_bin_widths + input_cumwidths\n",
    "\n",
    "        theta_one_minus_theta = root * (1 - root)\n",
    "        denominator = (input_delta +\n",
    "                       ((input_derivatives + input_derivatives_plus_one\n",
    "                         - 2 * input_delta) * theta_one_minus_theta))\n",
    "        derivative_numerator = (\n",
    "            input_delta.pow(2)\n",
    "            * (input_derivatives_plus_one * root.pow(2)\n",
    "               + 2 * input_delta * theta_one_minus_theta\n",
    "               + input_derivatives * (1 - root).pow(2)))\n",
    "        logabsdet = torch.log(derivative_numerator) - 2 * torch.log(denominator)\n",
    "        return outputs, -logabsdet\n",
    "    else:\n",
    "        theta = (inputs - input_cumwidths) / input_bin_widths\n",
    "        theta_one_minus_theta = theta * (1 - theta)\n",
    "\n",
    "        numerator = input_heights * (input_delta * theta.pow(2)\n",
    "                    + input_derivatives * theta_one_minus_theta)\n",
    "        denominator = input_delta + ((input_derivatives\n",
    "                      + input_derivatives_plus_one - 2 * input_delta)\n",
    "                      * theta_one_minus_theta)\n",
    "        outputs = input_cumheights + numerator / denominator\n",
    "\n",
    "        derivative_numerator = (\n",
    "            input_delta.pow(2) *\n",
    "            (input_derivatives_plus_one * theta.pow(2)\n",
    "             + 2 * input_delta * theta_one_minus_theta\n",
    "             + input_derivatives * (1 - theta).pow(2)))\n",
    "        logabsdet = torch.log(derivative_numerator) - 2 * torch.log(denominator)\n",
    "        return outputs, logabsdet"
   ]
  },
  {
   "cell_type": "markdown",
   "id": "52ac604a-07f9-45f4-99e3-8481e1ad6cdb",
   "metadata": {},
   "source": [
    "# Coupling Layer, Prior, Flow"
   ]
  },
  {
   "cell_type": "code",
   "execution_count": 260,
   "id": "42ce286c-c118-45a9-bde4-44b283c25b53",
   "metadata": {},
   "outputs": [],
   "source": [
    "class CouplingLayer(torch.nn.Module):\n",
    "    def __init__(self, Nc, K, max_y):\n",
    "        super().__init__()\n",
    "        self.Nc = Nc\n",
    "        self.K = K\n",
    "        self.max_y = max_y\n",
    "        kwargs_pad = dict(padding=1, padding_mode='circular')\n",
    "        n_y = Nc\n",
    "        n_th = 2 * Nc\n",
    "        n_h = 128\n",
    "        ker_size = 3\n",
    "        n_out_th = (3 * K + 1) * Nc # circ spline params plus offset\n",
    "        n_out_y = (3 * K - 1) * Nc # open spline params\n",
    "        self.net_th = torch.nn.Sequential(\n",
    "            torch.nn.Conv2d(n_y, n_h, ker_size, **kwargs_pad),\n",
    "            torch.nn.SiLU(),\n",
    "            torch.nn.Conv2d(n_h, n_h, ker_size, **kwargs_pad),\n",
    "            torch.nn.SiLU(),\n",
    "            torch.nn.Conv2d(n_h, n_out_th, ker_size, **kwargs_pad),\n",
    "        )\n",
    "        self.net_y = torch.nn.Sequential(\n",
    "            torch.nn.Conv2d(n_th, n_h, ker_size, **kwargs_pad),\n",
    "            torch.nn.SiLU(),\n",
    "            torch.nn.Conv2d(n_h, n_h, ker_size, **kwargs_pad),\n",
    "            torch.nn.SiLU(),\n",
    "            torch.nn.Conv2d(n_h, n_out_y, ker_size, **kwargs_pad),\n",
    "        )\n",
    "\n",
    "    def forward(self, y, th, inverse=False):\n",
    "        assert y.shape[-1] == self.Nc and th.shape[-1] == self.Nc\n",
    "        assert y.shape == th.shape\n",
    "        # move channel axis\n",
    "        y = y.moveaxis(-1, 1)\n",
    "        th = th.moveaxis(-1, 1)\n",
    "        \n",
    "        # transform y (conditioned on th)\n",
    "        def transform_y():\n",
    "            nonlocal y, th\n",
    "            inp_th = torch.cat((torch.cos(th), torch.sin(th)), dim=1)\n",
    "            out_y_params = self.net_y(inp_th).view(\n",
    "                inp_th.shape[0], 3*self.K-1, self.Nc, *inp_th.shape[2:])\n",
    "            W, H, D = torch.split(out_y_params, self.K, dim=1)\n",
    "            assert D.shape[1] == self.K-1\n",
    "            y, logJ1 = positive_RQS(\n",
    "                y, W, H, D, inverse=inverse, min_value=torch.tensor(0.0), max_value=torch.tensor(self.max_y)\n",
    "            )\n",
    "            return logJ1\n",
    "\n",
    "        # transform th (conditioned on y)\n",
    "        def transform_th():\n",
    "            nonlocal y, th\n",
    "            out_th_params = self.net_th(y).view(\n",
    "                y.shape[0], 3*self.K+1, self.Nc, *y.shape[2:])\n",
    "            W, H, D = torch.split(out_th_params[:,:-1], self.K, dim=1)\n",
    "            assert D.shape[1] == self.K\n",
    "            shift = out_th_params[:,-1]\n",
    "            if inverse:\n",
    "                th = wrap(th - shift)\n",
    "            assert torch.all(th <= np.pi) and torch.all(th >= -np.pi)\n",
    "            th, logJ2 = circle_RQS(\n",
    "                th, W, H, D, inverse=inverse,\n",
    "                circle_range_left=torch.tensor(-np.pi), circle_range_right=torch.tensor(np.pi),\n",
    "                min_bin_width=0.1/self.K, min_bin_height=0.1/self.K\n",
    "            )\n",
    "            if not inverse:\n",
    "                th = wrap(th + shift)\n",
    "            return logJ2\n",
    "\n",
    "        if not inverse:\n",
    "            logJ1 = transform_y()\n",
    "            logJ2 = transform_th()\n",
    "        else:\n",
    "            logJ2 = transform_th()\n",
    "            logJ1 = transform_y()\n",
    "\n",
    "        # move channel axis back\n",
    "        y = y.moveaxis(1, -1)\n",
    "        th = wrap(th.moveaxis(1, -1))\n",
    "\n",
    "        inds = tuple(range(1, len(logJ1.shape)))\n",
    "        logJ = (logJ1 + logJ2).sum(inds)\n",
    "\n",
    "        return y, th, logJ"
   ]
  },
  {
   "cell_type": "code",
   "execution_count": 261,
   "id": "e338e6cf-17e8-44fd-ba20-c6c09fe3f379",
   "metadata": {},
   "outputs": [],
   "source": [
    "class SequentialFlow(torch.nn.Module):\n",
    "    def __init__(self, layers):\n",
    "        super().__init__()\n",
    "        self.layers = torch.nn.ModuleList(layers)\n",
    "    def forward(self, *fields, inverse=False):\n",
    "        logJ = torch.zeros(fields[0].shape[0])\n",
    "        for i,layer in enumerate(self.layers):\n",
    "            (*fields, logJi) = layer(*fields, inverse=inverse)\n",
    "            logJ = logJ + logJi\n",
    "        return (*fields, logJ)"
   ]
  },
  {
   "cell_type": "code",
   "execution_count": 262,
   "id": "03897287-2ef7-42b1-b453-1f6f1e6139d4",
   "metadata": {},
   "outputs": [],
   "source": [
    "class GaussianPrior(torch.nn.Module):\n",
    "    def __init__(self, Nc, L):\n",
    "        super().__init__()\n",
    "        self.field_shape = (L,)*Nd + (Nc,)\n",
    "        self.dist_y = torch.distributions.exponential.Exponential(1.0).expand(self.field_shape)\n",
    "        self.dist_th = torch.distributions.uniform.Uniform(-np.pi, np.pi).expand(self.field_shape)\n",
    "    def sample_n(self, batch_size):\n",
    "        y = self.dist_y.sample((batch_size,))\n",
    "        th = self.dist_th.sample((batch_size,))\n",
    "        assert y.shape == (batch_size,) + self.field_shape\n",
    "        assert th.shape == (batch_size,) + self.field_shape\n",
    "        return y, th\n",
    "    def log_prob(self, y, th):\n",
    "        inds = tuple(range(1, len(y.shape)))\n",
    "        logr = (self.dist_y.log_prob(y) + self.dist_th.log_prob(th)).sum(inds)\n",
    "        assert len(logr.shape) == 1\n",
    "        assert logr.shape[0] == y.shape[0]\n",
    "        return logr"
   ]
  },
  {
   "cell_type": "code",
   "execution_count": 263,
   "id": "f829d640-160e-40ae-922c-3d4f5b4db8ce",
   "metadata": {},
   "outputs": [],
   "source": [
    "def make_model(Nc, L, *, K=5, y_max=10.0):\n",
    "    prior = GaussianPrior(Nc, L)\n",
    "    layers = [\n",
    "        CouplingLayer(Nc, K, y_max)\n",
    "    ]*4\n",
    "    flow = SequentialFlow(layers)\n",
    "    return prior, flow\n",
    "Nc = 3\n",
    "L = 4\n",
    "batch_size = 1\n",
    "prior, flow = make_model(Nc, L)\n",
    "y, th = prior.sample_n(batch_size)\n",
    "fy, fth, logJ = flow(y, th, inverse=False)\n",
    "yp, thp, logJp = flow(fy, fth, inverse=True)\n",
    "assert torch.allclose(y, yp)\n",
    "assert torch.allclose(th, thp)\n",
    "assert torch.allclose(logJ, -logJp)"
   ]
  },
  {
   "cell_type": "markdown",
   "id": "445a901f-f799-42f8-99ac-9ca5434216a6",
   "metadata": {},
   "source": [
    "# Training"
   ]
  },
  {
   "cell_type": "code",
   "execution_count": 264,
   "id": "4f748fa0-9068-42dc-ba87-e6a9d9f5ae7f",
   "metadata": {},
   "outputs": [],
   "source": [
    "def train_step(model, opt, sched, *, action, batch_size):\n",
    "    opt.zero_grad()\n",
    "    prior, flow = model\n",
    "    r = prior.sample_n(batch_size)\n",
    "    (*x, logJ) = flow(*r, inverse=False)\n",
    "    flow.requires_grad_(False)\n",
    "    (*rp, logJ2) = flow(*x, inverse=True)\n",
    "    flow.requires_grad_(True)\n",
    "    if not torch.allclose(r[0], rp[0]):\n",
    "        print(f'WARNING: diff {(r[0]-rp[0]).abs().sum()}')\n",
    "    if not torch.allclose(r[1], rp[1]):\n",
    "        print(f'WARNING: diff {wrap(r[1]-rp[1]).abs().sum()}')\n",
    "    assert torch.allclose(logJ, -logJ2)\n",
    "    logr = prior.log_prob(*rp)\n",
    "    logq = logr + logJ2\n",
    "    logp = -action(*x)\n",
    "    assert len(logq.shape) == 1\n",
    "    assert logq.shape == logp.shape\n",
    "    loss = (logq - logp).sum()\n",
    "    np_loss = grab(loss)\n",
    "    ess = grab(compute_ess(logp - logq))\n",
    "    loss.backward()\n",
    "    g = grab(torch.nn.utils.clip_grad_norm_(model[1].parameters(), float('inf')))\n",
    "    opt.step()\n",
    "    sched.step(loss)\n",
    "    return dict(loss=np_loss, g=g, ess=ess)"
   ]
  },
  {
   "cell_type": "code",
   "execution_count": 265,
   "id": "2df05611-1320-42b3-b0e6-6241b34196ee",
   "metadata": {},
   "outputs": [],
   "source": [
    "def run_train_epoch(model, opt, sched, *, action, n_batch, batch_size):\n",
    "    hist = {}\n",
    "    for i in tqdm.tqdm(range(n_batch), leave=False):\n",
    "        res = train_step(model, opt, sched, action=action, batch_size=batch_size)\n",
    "        for k in res:\n",
    "            if k not in hist: hist[k] = []\n",
    "            hist[k].append(res[k])\n",
    "    return hist"
   ]
  },
  {
   "cell_type": "code",
   "execution_count": 266,
   "id": "75113531-b021-4886-a9bd-ae71b8062a86",
   "metadata": {},
   "outputs": [
    {
     "data": {
      "application/vnd.jupyter.widget-view+json": {
       "model_id": "717394aff3eb48c6b55c45bcc23e3801",
       "version_major": 2,
       "version_minor": 0
      },
      "image/png": "[encoded data removed]",
      "text/html": [
       "\n",
       "            <div style=\"display: inline-block;\">\n",
       "                <div class=\"jupyter-widgets widget-label\" style=\"text-align: center;\">\n",
       "                    Figure\n",
       "                </div>\n",
       "                <img src='data:image/png;base64,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' width=800.0/>\n",
       "            </div>\n",
       "        "
      ],
      "text/plain": [
       "Canvas(toolbar=Toolbar(toolitems=[('Home', 'Reset original view', 'home', 'home'), ('Back', 'Back to previous …"
      ]
     },
     "metadata": {},
     "output_type": "display_data"
    }
   ],
   "source": [
    "fig, axes = plt.subplots(2,2, figsize=(8,4))\n",
    "axes[0,0].set_ylabel('Loss')\n",
    "axes[1,0].set_ylabel('Grad')\n",
    "axes[1,0].set_xlabel('Train iter')\n",
    "axes[0,1].set_ylabel('ESS')\n",
    "axes[1,1].set_xlabel('Train iter')\n",
    "fig.set_tight_layout(True)\n",
    "plt.show()"
   ]
  },
  {
   "cell_type": "code",
   "execution_count": 267,
   "id": "79fa9192-61ab-469d-8ba7-a75f9fc5a178",
   "metadata": {},
   "outputs": [
    {
     "data": {
      "application/vnd.jupyter.widget-view+json": {
       "model_id": "115ddeff8ccc4e2dadd7c64d1da15e03",
       "version_major": 2,
       "version_minor": 0
      },
      "text/plain": [
       "  0%|          | 0/10 [00:00<?, ?it/s]"
      ]
     },
     "metadata": {},
     "output_type": "display_data"
    },
    {
     "data": {
      "application/vnd.jupyter.widget-view+json": {
       "model_id": "",
       "version_major": 2,
       "version_minor": 0
      },
      "text/plain": [
       "  0%|          | 0/20 [00:00<?, ?it/s]"
      ]
     },
     "metadata": {},
     "output_type": "display_data"
    },
    {
     "name": "stdout",
     "output_type": "stream",
     "text": [
      "LR=0.0001\n"
     ]
    },
    {
     "data": {
      "application/vnd.jupyter.widget-view+json": {
       "model_id": "",
       "version_major": 2,
       "version_minor": 0
      },
      "text/plain": [
       "  0%|          | 0/20 [00:00<?, ?it/s]"
      ]
     },
     "metadata": {},
     "output_type": "display_data"
    },
    {
     "name": "stdout",
     "output_type": "stream",
     "text": [
      "LR=0.0001\n"
     ]
    },
    {
     "data": {
      "application/vnd.jupyter.widget-view+json": {
       "model_id": "",
       "version_major": 2,
       "version_minor": 0
      },
      "text/plain": [
       "  0%|          | 0/20 [00:00<?, ?it/s]"
      ]
     },
     "metadata": {},
     "output_type": "display_data"
    },
    {
     "name": "stdout",
     "output_type": "stream",
     "text": [
      "LR=0.0001\n"
     ]
    },
    {
     "data": {
      "application/vnd.jupyter.widget-view+json": {
       "model_id": "",
       "version_major": 2,
       "version_minor": 0
      },
      "text/plain": [
       "  0%|          | 0/20 [00:00<?, ?it/s]"
      ]
     },
     "metadata": {},
     "output_type": "display_data"
    },
    {
     "name": "stdout",
     "output_type": "stream",
     "text": [
      "LR=0.0001\n"
     ]
    },
    {
     "data": {
      "application/vnd.jupyter.widget-view+json": {
       "model_id": "",
       "version_major": 2,
       "version_minor": 0
      },
      "text/plain": [
       "  0%|          | 0/20 [00:00<?, ?it/s]"
      ]
     },
     "metadata": {},
     "output_type": "display_data"
    },
    {
     "name": "stdout",
     "output_type": "stream",
     "text": [
      "LR=0.0001\n"
     ]
    },
    {
     "data": {
      "application/vnd.jupyter.widget-view+json": {
       "model_id": "",
       "version_major": 2,
       "version_minor": 0
      },
      "text/plain": [
       "  0%|          | 0/20 [00:00<?, ?it/s]"
      ]
     },
     "metadata": {},
     "output_type": "display_data"
    },
    {
     "name": "stdout",
     "output_type": "stream",
     "text": [
      "LR=0.0001\n"
     ]
    },
    {
     "data": {
      "application/vnd.jupyter.widget-view+json": {
       "model_id": "",
       "version_major": 2,
       "version_minor": 0
      },
      "text/plain": [
       "  0%|          | 0/20 [00:00<?, ?it/s]"
      ]
     },
     "metadata": {},
     "output_type": "display_data"
    },
    {
     "name": "stdout",
     "output_type": "stream",
     "text": [
      "LR=0.0001\n"
     ]
    },
    {
     "data": {
      "application/vnd.jupyter.widget-view+json": {
       "model_id": "",
       "version_major": 2,
       "version_minor": 0
      },
      "text/plain": [
       "  0%|          | 0/20 [00:00<?, ?it/s]"
      ]
     },
     "metadata": {},
     "output_type": "display_data"
    },
    {
     "name": "stdout",
     "output_type": "stream",
     "text": [
      "LR=0.0001\n"
     ]
    },
    {
     "data": {
      "application/vnd.jupyter.widget-view+json": {
       "model_id": "",
       "version_major": 2,
       "version_minor": 0
      },
      "text/plain": [
       "  0%|          | 0/20 [00:00<?, ?it/s]"
      ]
     },
     "metadata": {},
     "output_type": "display_data"
    },
    {
     "name": "stdout",
     "output_type": "stream",
     "text": [
      "LR=0.0001\n"
     ]
    },
    {
     "data": {
      "application/vnd.jupyter.widget-view+json": {
       "model_id": "",
       "version_major": 2,
       "version_minor": 0
      },
      "text/plain": [
       "  0%|          | 0/20 [00:00<?, ?it/s]"
      ]
     },
     "metadata": {},
     "output_type": "display_data"
    },
    {
     "name": "stdout",
     "output_type": "stream",
     "text": [
      "LR=0.0001\n"
     ]
    }
   ],
   "source": [
    "def do_train(res):\n",
    "    Nc = 3\n",
    "    L = 2\n",
    "    batch_size = 1024\n",
    "    beta = 1.0\n",
    "    n_epoch = 10\n",
    "    n_batch = 20\n",
    "    model = make_model(Nc, L)\n",
    "    action = lambda y,th: action_y_th(y, th, beta=beta) + action_reg_y(y, kappa=1.0)\n",
    "    all_hist = dict()\n",
    "    opt = torch.optim.Adam(model[1].parameters(), lr=1e-4)\n",
    "    sched = torch.optim.lr_scheduler.ReduceLROnPlateau(opt, factor=0.5, patience=300)\n",
    "    line_loss, line_grad = None, None\n",
    "    for i in tqdm.tqdm(range(n_epoch)):\n",
    "        hist = run_train_epoch(model, opt, sched, action=action, n_batch=n_batch, batch_size=batch_size)\n",
    "        lr = opt.param_groups[0][\"lr\"]\n",
    "        print(f'LR={lr}')\n",
    "        if lr < 1e-6:\n",
    "            break\n",
    "        for k in hist:\n",
    "            if k not in all_hist:\n",
    "                all_hist[k] = []\n",
    "            all_hist[k] = np.concatenate([all_hist[k], hist[k]])\n",
    "        # update plots\n",
    "        if line_loss is not None:\n",
    "            line_loss.set_xdata(np.arange(len(all_hist['loss'])))\n",
    "            line_loss.set_ydata(all_hist['loss'])\n",
    "            line_grad.set_xdata(np.arange(len(all_hist['g'])))\n",
    "            line_grad.set_ydata(all_hist['g'])\n",
    "            line_ess.set_xdata(np.arange(len(all_hist['ess'])))\n",
    "            line_ess.set_ydata(all_hist['ess'])\n",
    "        else:\n",
    "            line_loss, = axes[0,0].plot(all_hist['loss'])\n",
    "            line_grad, = axes[1,0].plot(all_hist['g'])\n",
    "            line_ess, = axes[0,1].plot(all_hist['ess'])\n",
    "        for ax in axes.flatten():\n",
    "            ax.relim()\n",
    "            ax.autoscale_view()\n",
    "        fig.canvas.draw()\n",
    "        res['model'] = model\n",
    "        res['opt'] = opt\n",
    "        res['all_hist'] = all_hist\n",
    "res = {}\n",
    "do_train(res)"
   ]
  },
  {
   "cell_type": "code",
   "execution_count": 223,
   "id": "e98a7a02-3cab-44c1-9e15-b88da329065a",
   "metadata": {},
   "outputs": [],
   "source": [
    "torch.save(res['model'], 'cpn_model_L2.pt')"
   ]
  },
  {
   "cell_type": "code",
   "execution_count": 249,
   "id": "0bcf9e8a-8d0b-4cc5-a870-b80f71dc2615",
   "metadata": {},
   "outputs": [
    {
     "name": "stdout",
     "output_type": "stream",
     "text": [
      "est_ess=(0.6250025165872296, 0.028978313367001237)\n",
      "est_S=(-7.569325082384463, 0.011054914206598968)\n"
     ]
    },
    {
     "data": {
      "application/vnd.jupyter.widget-view+json": {
       "model_id": "90fecc531fdb4812acb9e871fc6d0af1",
       "version_major": 2,
       "version_minor": 0
      },
      "image/png": "[encoded data removed]",
      "text/html": [
       "\n",
       "            <div style=\"display: inline-block;\">\n",
       "                <div class=\"jupyter-widgets widget-label\" style=\"text-align: center;\">\n",
       "                    Figure\n",
       "                </div>\n",
       "                <img src='data:image/png;base64,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' width=640.0/>\n",
       "            </div>\n",
       "        "
      ],
      "text/plain": [
       "Canvas(toolbar=Toolbar(toolitems=[('Home', 'Reset original view', 'home', 'home'), ('Back', 'Back to previous …"
      ]
     },
     "metadata": {},
     "output_type": "display_data"
    }
   ],
   "source": [
    "def eval_model(model, *, beta=1.0, batch_size=1024):\n",
    "    prior, flow = model\n",
    "    x = prior.sample_n(batch_size)\n",
    "    logr = prior.log_prob(*x)\n",
    "    (*fx, logJ) = flow(*x, inverse=False)\n",
    "    logq = grab(logr - logJ)\n",
    "    action = lambda y,th: action_y_th(y, th, beta=beta) + action_reg_y(y, kappa=1.0)\n",
    "    logp = -grab(action(*fx))\n",
    "    S = grab(action_y_th(*fx, beta=beta))\n",
    "    logw = logp - logq\n",
    "    est_ess = al.bootstrap(logw, Nboot=100, f=lambda logw: grab(compute_ess(torch.from_numpy(logw))))\n",
    "    print(f'{est_ess=}')\n",
    "    est_S = al.bootstrap(S, logw, Nboot=100, f=lambda S, logw: np.mean(S*np.exp(logw)) / np.mean(np.exp(logw)))\n",
    "    print(f'{est_S=}')\n",
    "    fig, ax = plt.subplots(1,1)\n",
    "    ax.hist(S, density=True, bins=30)\n",
    "    ax.hist(S, weights=np.exp(logw), density=True, alpha=0.5, bins=30)\n",
    "    plt.show()\n",
    "with torch.no_grad():\n",
    "    eval_model(res['model'])"
   ]
  },
  {
   "cell_type": "code",
   "execution_count": null,
   "id": "22dd5661-4b7a-46be-8559-56556f405c33",
   "metadata": {},
   "outputs": [],
   "source": []
  }
 ],
 "metadata": {
  "kernelspec": {
   "display_name": "Python 3 (ipykernel)",
   "language": "python",
   "name": "python3"
  },
  "language_info": {
   "codemirror_mode": {
    "name": "ipython",
    "version": 3
   },
   "file_extension": ".py",
   "mimetype": "text/x-python",
   "name": "python",
   "nbconvert_exporter": "python",
   "pygments_lexer": "ipython3",
   "version": "3.11.7"
  }
 },
 "nbformat": 4,
 "nbformat_minor": 5
}
